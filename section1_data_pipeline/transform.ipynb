{
 "cells": [
  {
   "cell_type": "code",
   "execution_count": 187,
   "id": "e4064d18-7b86-4b5d-b8fe-251c5d1af5a7",
   "metadata": {},
   "outputs": [],
   "source": [
    "import pandas as pd\n",
    "from pandas.api.types import is_string_dtype"
   ]
  },
  {
   "cell_type": "code",
   "execution_count": 222,
   "id": "0737ac1a-0c47-4930-b5d8-4fdb7ad44f9c",
   "metadata": {},
   "outputs": [],
   "source": [
    "import warnings\n",
    "with warnings.catch_warnings():\n",
    "    warnings.simplefilter(\"ignore\")"
   ]
  },
  {
   "cell_type": "code",
   "execution_count": 231,
   "id": "e0206a9f-e9f5-47ac-9fab-ea9b09465b1b",
   "metadata": {},
   "outputs": [],
   "source": [
    "filename = 'dataset1.csv'"
   ]
  },
  {
   "cell_type": "code",
   "execution_count": 232,
   "id": "63129a32-a44f-4e93-892e-b4c9a98ffa83",
   "metadata": {},
   "outputs": [
    {
     "data": {
      "text/plain": [
       "(5000, 2)"
      ]
     },
     "execution_count": 232,
     "metadata": {},
     "output_type": "execute_result"
    }
   ],
   "source": [
    "data = pd.read_csv(\"raw_data/{}\".format(filename))\n",
    "data.head(10)\n",
    "data.shape"
   ]
  },
  {
   "cell_type": "code",
   "execution_count": 233,
   "id": "b2f83daf-286e-4458-b521-3241d3d20510",
   "metadata": {},
   "outputs": [
    {
     "data": {
      "text/html": [
       "<div>\n",
       "<style scoped>\n",
       "    .dataframe tbody tr th:only-of-type {\n",
       "        vertical-align: middle;\n",
       "    }\n",
       "\n",
       "    .dataframe tbody tr th {\n",
       "        vertical-align: top;\n",
       "    }\n",
       "\n",
       "    .dataframe thead th {\n",
       "        text-align: right;\n",
       "    }\n",
       "</style>\n",
       "<table border=\"1\" class=\"dataframe\">\n",
       "  <thead>\n",
       "    <tr style=\"text-align: right;\">\n",
       "      <th></th>\n",
       "      <th>name</th>\n",
       "      <th>price</th>\n",
       "    </tr>\n",
       "  </thead>\n",
       "  <tbody>\n",
       "    <tr>\n",
       "      <th>0</th>\n",
       "      <td>William Dixon</td>\n",
       "      <td>109.037280</td>\n",
       "    </tr>\n",
       "    <tr>\n",
       "      <th>1</th>\n",
       "      <td>Kristen Horn</td>\n",
       "      <td>262.524652</td>\n",
       "    </tr>\n",
       "    <tr>\n",
       "      <th>2</th>\n",
       "      <td>Kimberly Chang</td>\n",
       "      <td>187.007258</td>\n",
       "    </tr>\n",
       "    <tr>\n",
       "      <th>3</th>\n",
       "      <td>Mary Ball</td>\n",
       "      <td>283.174648</td>\n",
       "    </tr>\n",
       "    <tr>\n",
       "      <th>4</th>\n",
       "      <td>Benjamin Craig</td>\n",
       "      <td>143.871582</td>\n",
       "    </tr>\n",
       "    <tr>\n",
       "      <th>...</th>\n",
       "      <td>...</td>\n",
       "      <td>...</td>\n",
       "    </tr>\n",
       "    <tr>\n",
       "      <th>4995</th>\n",
       "      <td>Shirley Nguyen</td>\n",
       "      <td>9.011665</td>\n",
       "    </tr>\n",
       "    <tr>\n",
       "      <th>4996</th>\n",
       "      <td>Jesse Brown</td>\n",
       "      <td>247.328232</td>\n",
       "    </tr>\n",
       "    <tr>\n",
       "      <th>4997</th>\n",
       "      <td>Valerie Owens</td>\n",
       "      <td>238.103714</td>\n",
       "    </tr>\n",
       "    <tr>\n",
       "      <th>4998</th>\n",
       "      <td>Alicia Sharp</td>\n",
       "      <td>243.622929</td>\n",
       "    </tr>\n",
       "    <tr>\n",
       "      <th>4999</th>\n",
       "      <td>Sherry Jensen</td>\n",
       "      <td>13.839516</td>\n",
       "    </tr>\n",
       "  </tbody>\n",
       "</table>\n",
       "<p>5000 rows × 2 columns</p>\n",
       "</div>"
      ],
      "text/plain": [
       "                name       price\n",
       "0      William Dixon  109.037280\n",
       "1       Kristen Horn  262.524652\n",
       "2     Kimberly Chang  187.007258\n",
       "3          Mary Ball  283.174648\n",
       "4     Benjamin Craig  143.871582\n",
       "...              ...         ...\n",
       "4995  Shirley Nguyen    9.011665\n",
       "4996     Jesse Brown  247.328232\n",
       "4997   Valerie Owens  238.103714\n",
       "4998    Alicia Sharp  243.622929\n",
       "4999   Sherry Jensen   13.839516\n",
       "\n",
       "[5000 rows x 2 columns]"
      ]
     },
     "execution_count": 233,
     "metadata": {},
     "output_type": "execute_result"
    }
   ],
   "source": [
    "data"
   ]
  },
  {
   "cell_type": "code",
   "execution_count": 234,
   "id": "7a78795f-faee-498a-a5d5-19ec1f59a558",
   "metadata": {},
   "outputs": [],
   "source": [
    "def drop_nan_names(data):\n",
    "    return data[data['name'].notna()]\n",
    "\n",
    "def split_names(data):\n",
    "    data[['first_name', 'last_name']] = data['name'].str.split(' ', 1, expand=True)\n",
    "    data.drop('name', axis=1, inplace=True)\n",
    "    return data\n",
    "\n",
    "def remove_prepended_zeroes(data):\n",
    "    if not is_string_dtype(data['price']):\n",
    "        data['price'].map(str)\n",
    "    data['price'] =  [str(p).lstrip(\"0\") for p in data['price']]\n",
    "    return data\n",
    "\n",
    "def add_above_100(data):\n",
    "    data['above_100'] = [True if float(p) > 100 else False for p in data['price']]\n",
    "    return data"
   ]
  },
  {
   "cell_type": "code",
   "execution_count": 235,
   "id": "578666f3-4882-463e-a7bb-5d939a36197a",
   "metadata": {},
   "outputs": [],
   "source": [
    "def data_pipeline():\n",
    "    data = drop_nan_names(data)\n",
    "    data = split_names(data)\n",
    "    data = remove_prepended_zeroes(data)\n",
    "    data = add_above_100(data)\n",
    "    \n",
    "    "
   ]
  },
  {
   "cell_type": "code",
   "execution_count": 236,
   "id": "671fa2b5-bbdf-4cb8-bf66-aefb91bc7537",
   "metadata": {},
   "outputs": [],
   "source": [
    "data = data.pipe(drop_nan_names).pipe(split_names).pipe(remove_prepended_zeroes).pipe(add_above_100)\n"
   ]
  },
  {
   "cell_type": "code",
   "execution_count": 237,
   "id": "773694fc-e7e9-4588-944e-4715c8d52763",
   "metadata": {},
   "outputs": [
    {
     "data": {
      "text/html": [
       "<div>\n",
       "<style scoped>\n",
       "    .dataframe tbody tr th:only-of-type {\n",
       "        vertical-align: middle;\n",
       "    }\n",
       "\n",
       "    .dataframe tbody tr th {\n",
       "        vertical-align: top;\n",
       "    }\n",
       "\n",
       "    .dataframe thead th {\n",
       "        text-align: right;\n",
       "    }\n",
       "</style>\n",
       "<table border=\"1\" class=\"dataframe\">\n",
       "  <thead>\n",
       "    <tr style=\"text-align: right;\">\n",
       "      <th></th>\n",
       "      <th>price</th>\n",
       "      <th>first_name</th>\n",
       "      <th>last_name</th>\n",
       "      <th>above_100</th>\n",
       "    </tr>\n",
       "  </thead>\n",
       "  <tbody>\n",
       "    <tr>\n",
       "      <th>0</th>\n",
       "      <td>109.0372796</td>\n",
       "      <td>William</td>\n",
       "      <td>Dixon</td>\n",
       "      <td>True</td>\n",
       "    </tr>\n",
       "    <tr>\n",
       "      <th>1</th>\n",
       "      <td>262.5246522</td>\n",
       "      <td>Kristen</td>\n",
       "      <td>Horn</td>\n",
       "      <td>True</td>\n",
       "    </tr>\n",
       "    <tr>\n",
       "      <th>2</th>\n",
       "      <td>187.0072583</td>\n",
       "      <td>Kimberly</td>\n",
       "      <td>Chang</td>\n",
       "      <td>True</td>\n",
       "    </tr>\n",
       "    <tr>\n",
       "      <th>3</th>\n",
       "      <td>283.1746476</td>\n",
       "      <td>Mary</td>\n",
       "      <td>Ball</td>\n",
       "      <td>True</td>\n",
       "    </tr>\n",
       "    <tr>\n",
       "      <th>4</th>\n",
       "      <td>143.8715817</td>\n",
       "      <td>Benjamin</td>\n",
       "      <td>Craig</td>\n",
       "      <td>True</td>\n",
       "    </tr>\n",
       "    <tr>\n",
       "      <th>...</th>\n",
       "      <td>...</td>\n",
       "      <td>...</td>\n",
       "      <td>...</td>\n",
       "      <td>...</td>\n",
       "    </tr>\n",
       "    <tr>\n",
       "      <th>4995</th>\n",
       "      <td>9.011665323</td>\n",
       "      <td>Shirley</td>\n",
       "      <td>Nguyen</td>\n",
       "      <td>False</td>\n",
       "    </tr>\n",
       "    <tr>\n",
       "      <th>4996</th>\n",
       "      <td>247.3282318</td>\n",
       "      <td>Jesse</td>\n",
       "      <td>Brown</td>\n",
       "      <td>True</td>\n",
       "    </tr>\n",
       "    <tr>\n",
       "      <th>4997</th>\n",
       "      <td>238.1037141</td>\n",
       "      <td>Valerie</td>\n",
       "      <td>Owens</td>\n",
       "      <td>True</td>\n",
       "    </tr>\n",
       "    <tr>\n",
       "      <th>4998</th>\n",
       "      <td>243.622929</td>\n",
       "      <td>Alicia</td>\n",
       "      <td>Sharp</td>\n",
       "      <td>True</td>\n",
       "    </tr>\n",
       "    <tr>\n",
       "      <th>4999</th>\n",
       "      <td>13.83951571</td>\n",
       "      <td>Sherry</td>\n",
       "      <td>Jensen</td>\n",
       "      <td>False</td>\n",
       "    </tr>\n",
       "  </tbody>\n",
       "</table>\n",
       "<p>5000 rows × 4 columns</p>\n",
       "</div>"
      ],
      "text/plain": [
       "            price first_name last_name  above_100\n",
       "0     109.0372796    William     Dixon       True\n",
       "1     262.5246522    Kristen      Horn       True\n",
       "2     187.0072583   Kimberly     Chang       True\n",
       "3     283.1746476       Mary      Ball       True\n",
       "4     143.8715817   Benjamin     Craig       True\n",
       "...           ...        ...       ...        ...\n",
       "4995  9.011665323    Shirley    Nguyen      False\n",
       "4996  247.3282318      Jesse     Brown       True\n",
       "4997  238.1037141    Valerie     Owens       True\n",
       "4998   243.622929     Alicia     Sharp       True\n",
       "4999  13.83951571     Sherry    Jensen      False\n",
       "\n",
       "[5000 rows x 4 columns]"
      ]
     },
     "execution_count": 237,
     "metadata": {},
     "output_type": "execute_result"
    }
   ],
   "source": [
    "data"
   ]
  },
  {
   "cell_type": "code",
   "execution_count": 230,
   "id": "28617a31-e6a6-44aa-9fef-a4199f4a13dd",
   "metadata": {},
   "outputs": [],
   "source": [
    "# data[data['price'].str.startswith('0', na=False)]"
   ]
  }
 ],
 "metadata": {
  "kernelspec": {
   "display_name": "Python 3 (ipykernel)",
   "language": "python",
   "name": "python3"
  },
  "language_info": {
   "codemirror_mode": {
    "name": "ipython",
    "version": 3
   },
   "file_extension": ".py",
   "mimetype": "text/x-python",
   "name": "python",
   "nbconvert_exporter": "python",
   "pygments_lexer": "ipython3",
   "version": "3.8.11"
  }
 },
 "nbformat": 4,
 "nbformat_minor": 5
}
