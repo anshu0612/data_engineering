{
 "cells": [
  {
   "cell_type": "markdown",
   "id": "cddb5046-3c85-4c96-b422-3186835f2ef4",
   "metadata": {
    "tags": []
   },
   "source": [
    "### Introduction\n",
    "Business objective: Prediction the buying price of the car given :\n",
    "- Maintenance\n",
    "- Number of doors\n",
    "- Lug Boot Size\n",
    "- Safety\n",
    "- Class Value\n",
    "\n",
    "Assumptions:\n",
    "- `Higher comfort` - luggage boot size, number of doors & people, safety; `higher pricing` (positive correlation)\n",
    "- `Higher class`; `higher pricing` (positive correlation)\n",
    "<!-- - Higher **maintenance**; lower pricing (negative correlation)\n",
    " -->\n",
    "### Table content\n",
    "1. [Loading the data](#cell1)\n",
    "2. [Discoverng and visualizing the data to gain insights](#cell2)\n",
    "3. [Preparing the data for machine learning algorithms](#cell3)\n",
    "4. [Training and evaluating on the training set](#cell4)\n",
    "5. [Selecting the best model](#cell5)\n",
    "6. [Conclusions: Presenting solution](#cell6)"
   ]
  },
  {
   "cell_type": "markdown",
   "id": "892782a8-1364-4ba9-a6f5-12e6fb48dc2b",
   "metadata": {},
   "source": [
    "# jupyter nbconvert --execute --to pdf notebook.ipynb"
   ]
  },
  {
   "cell_type": "code",
   "execution_count": 356,
   "id": "3bc4632f-0b6d-47f5-bd26-7a94cb97b126",
   "metadata": {},
   "outputs": [],
   "source": [
    "import pandas as pd\n",
    "from pandas.plotting import scatter_matrix\n",
    "import matplotlib.pyplot as plt\n",
    "import seaborn as sns\n",
    "import numpy as np\n",
    "%matplotlib inline"
   ]
  },
  {
   "cell_type": "code",
   "execution_count": 3,
   "id": "7fc502f9-6b83-4271-a50d-58513acec83a",
   "metadata": {},
   "outputs": [],
   "source": [
    "import warnings\n",
    "warnings.filterwarnings('ignore')"
   ]
  },
  {
   "cell_type": "markdown",
   "id": "45e2ad41-78a7-4cdf-b474-35223b0a0a3b",
   "metadata": {},
   "source": [
    "### 1. Loading the data <a id=\"cell1\"></a>"
   ]
  },
  {
   "cell_type": "code",
   "execution_count": 313,
   "id": "d981feea-7b52-490c-8378-705bb201e2eb",
   "metadata": {},
   "outputs": [],
   "source": [
    "ATTRIBUTES = ['buying', 'maint', 'doors', 'persons', 'lug_boot', 'safety', 'class']"
   ]
  },
  {
   "cell_type": "code",
   "execution_count": 314,
   "id": "9a7ae654-6f38-4126-9cbe-26308a8b9f57",
   "metadata": {},
   "outputs": [],
   "source": [
    "data = pd.read_csv(\"data/car.data\", names=ATTRIBUTES)"
   ]
  },
  {
   "cell_type": "markdown",
   "id": "1f7a1baa-87e6-4400-922f-22c8109e4ab9",
   "metadata": {},
   "source": [
    "### 2. Discoverng and visualizing the data to gain insights <a id=\"cell2\"></a>"
   ]
  },
  {
   "cell_type": "code",
   "execution_count": 6,
   "id": "5cbaad36-2dbc-4364-b932-af0f45b017b3",
   "metadata": {},
   "outputs": [
    {
     "data": {
      "text/html": [
       "<div>\n",
       "<style scoped>\n",
       "    .dataframe tbody tr th:only-of-type {\n",
       "        vertical-align: middle;\n",
       "    }\n",
       "\n",
       "    .dataframe tbody tr th {\n",
       "        vertical-align: top;\n",
       "    }\n",
       "\n",
       "    .dataframe thead th {\n",
       "        text-align: right;\n",
       "    }\n",
       "</style>\n",
       "<table border=\"1\" class=\"dataframe\">\n",
       "  <thead>\n",
       "    <tr style=\"text-align: right;\">\n",
       "      <th></th>\n",
       "      <th>buying</th>\n",
       "      <th>maint</th>\n",
       "      <th>doors</th>\n",
       "      <th>persons</th>\n",
       "      <th>lug_boot</th>\n",
       "      <th>safety</th>\n",
       "      <th>class</th>\n",
       "    </tr>\n",
       "  </thead>\n",
       "  <tbody>\n",
       "    <tr>\n",
       "      <th>0</th>\n",
       "      <td>vhigh</td>\n",
       "      <td>vhigh</td>\n",
       "      <td>2</td>\n",
       "      <td>2</td>\n",
       "      <td>small</td>\n",
       "      <td>low</td>\n",
       "      <td>unacc</td>\n",
       "    </tr>\n",
       "    <tr>\n",
       "      <th>1</th>\n",
       "      <td>vhigh</td>\n",
       "      <td>vhigh</td>\n",
       "      <td>2</td>\n",
       "      <td>2</td>\n",
       "      <td>small</td>\n",
       "      <td>med</td>\n",
       "      <td>unacc</td>\n",
       "    </tr>\n",
       "    <tr>\n",
       "      <th>2</th>\n",
       "      <td>vhigh</td>\n",
       "      <td>vhigh</td>\n",
       "      <td>2</td>\n",
       "      <td>2</td>\n",
       "      <td>small</td>\n",
       "      <td>high</td>\n",
       "      <td>unacc</td>\n",
       "    </tr>\n",
       "    <tr>\n",
       "      <th>3</th>\n",
       "      <td>vhigh</td>\n",
       "      <td>vhigh</td>\n",
       "      <td>2</td>\n",
       "      <td>2</td>\n",
       "      <td>med</td>\n",
       "      <td>low</td>\n",
       "      <td>unacc</td>\n",
       "    </tr>\n",
       "    <tr>\n",
       "      <th>4</th>\n",
       "      <td>vhigh</td>\n",
       "      <td>vhigh</td>\n",
       "      <td>2</td>\n",
       "      <td>2</td>\n",
       "      <td>med</td>\n",
       "      <td>med</td>\n",
       "      <td>unacc</td>\n",
       "    </tr>\n",
       "    <tr>\n",
       "      <th>5</th>\n",
       "      <td>vhigh</td>\n",
       "      <td>vhigh</td>\n",
       "      <td>2</td>\n",
       "      <td>2</td>\n",
       "      <td>med</td>\n",
       "      <td>high</td>\n",
       "      <td>unacc</td>\n",
       "    </tr>\n",
       "    <tr>\n",
       "      <th>6</th>\n",
       "      <td>vhigh</td>\n",
       "      <td>vhigh</td>\n",
       "      <td>2</td>\n",
       "      <td>2</td>\n",
       "      <td>big</td>\n",
       "      <td>low</td>\n",
       "      <td>unacc</td>\n",
       "    </tr>\n",
       "    <tr>\n",
       "      <th>7</th>\n",
       "      <td>vhigh</td>\n",
       "      <td>vhigh</td>\n",
       "      <td>2</td>\n",
       "      <td>2</td>\n",
       "      <td>big</td>\n",
       "      <td>med</td>\n",
       "      <td>unacc</td>\n",
       "    </tr>\n",
       "    <tr>\n",
       "      <th>8</th>\n",
       "      <td>vhigh</td>\n",
       "      <td>vhigh</td>\n",
       "      <td>2</td>\n",
       "      <td>2</td>\n",
       "      <td>big</td>\n",
       "      <td>high</td>\n",
       "      <td>unacc</td>\n",
       "    </tr>\n",
       "    <tr>\n",
       "      <th>9</th>\n",
       "      <td>vhigh</td>\n",
       "      <td>vhigh</td>\n",
       "      <td>2</td>\n",
       "      <td>4</td>\n",
       "      <td>small</td>\n",
       "      <td>low</td>\n",
       "      <td>unacc</td>\n",
       "    </tr>\n",
       "  </tbody>\n",
       "</table>\n",
       "</div>"
      ],
      "text/plain": [
       "  buying  maint doors persons lug_boot safety  class\n",
       "0  vhigh  vhigh     2       2    small    low  unacc\n",
       "1  vhigh  vhigh     2       2    small    med  unacc\n",
       "2  vhigh  vhigh     2       2    small   high  unacc\n",
       "3  vhigh  vhigh     2       2      med    low  unacc\n",
       "4  vhigh  vhigh     2       2      med    med  unacc\n",
       "5  vhigh  vhigh     2       2      med   high  unacc\n",
       "6  vhigh  vhigh     2       2      big    low  unacc\n",
       "7  vhigh  vhigh     2       2      big    med  unacc\n",
       "8  vhigh  vhigh     2       2      big   high  unacc\n",
       "9  vhigh  vhigh     2       4    small    low  unacc"
      ]
     },
     "execution_count": 6,
     "metadata": {},
     "output_type": "execute_result"
    }
   ],
   "source": [
    "data.head(10)"
   ]
  },
  {
   "cell_type": "markdown",
   "id": "fa975256-48f5-44b6-ba08-42c39757bbdc",
   "metadata": {},
   "source": [
    "##### The attributes are Ordinal (Categorical)"
   ]
  },
  {
   "cell_type": "code",
   "execution_count": 7,
   "id": "36e38833-67d5-40f9-aef4-147fcb3e5953",
   "metadata": {},
   "outputs": [
    {
     "name": "stdout",
     "output_type": "stream",
     "text": [
      "buying attribute has ['vhigh' 'high' 'med' 'low'] values\n",
      "maint attribute has ['vhigh' 'high' 'med' 'low'] values\n",
      "doors attribute has ['2' '3' '4' '5more'] values\n",
      "persons attribute has ['2' '4' 'more'] values\n",
      "lug_boot attribute has ['small' 'med' 'big'] values\n",
      "safety attribute has ['low' 'med' 'high'] values\n",
      "class attribute has ['unacc' 'acc' 'vgood' 'good'] values\n"
     ]
    }
   ],
   "source": [
    "for i in data.columns:\n",
    "    print(\"{} attribute has {} values\".format(i,data[i].unique()))"
   ]
  },
  {
   "cell_type": "markdown",
   "id": "3399858e-aa55-4e67-8c00-d2dc0f32867b",
   "metadata": {},
   "source": [
    "##### The strata (subgroups ) are well-distributed (that's rare) except for the `class` attribute."
   ]
  },
  {
   "cell_type": "code",
   "execution_count": 8,
   "id": "e0bf8669-e7f6-40a8-bdb6-276c1d98e92e",
   "metadata": {},
   "outputs": [
    {
     "data": {
      "image/png": "[encoded data removed]",
      "text/plain": [
       "<Figure size 432x288 with 6 Axes>"
      ]
     },
     "metadata": {
      "needs_background": "light"
     },
     "output_type": "display_data"
    }
   ],
   "source": [
    "fig, axes = plt.subplots(nrows=2, ncols=3)\n",
    "\n",
    "data['buying'].value_counts().plot(kind='bar', ax=axes[0,1])\n",
    "data['maint'].value_counts().plot(kind='bar', ax=axes[1,1])\n",
    "data['doors'].value_counts().plot(kind='bar', ax=axes[0,0])\n",
    "data['persons'].value_counts().plot(kind='bar', ax=axes[1,0])\n",
    "data['lug_boot'].value_counts().plot(kind='bar', ax=axes[0,2])\n",
    "data['safety'].value_counts().plot(kind='bar', ax=axes[1,2])\n",
    "\n",
    "fig.tight_layout() # Or equivalently,  \"plt.tight_layout()\"\n",
    "\n",
    "plt.show()"
   ]
  },
  {
   "cell_type": "code",
   "execution_count": 9,
   "id": "bc95103a-4f5d-44fb-a69c-e0683c08f811",
   "metadata": {},
   "outputs": [
    {
     "data": {
      "image/png": "[encoded data removed]",
      "text/plain": [
       "<Figure size 432x288 with 1 Axes>"
      ]
     },
     "metadata": {
      "needs_background": "light"
     },
     "output_type": "display_data"
    }
   ],
   "source": [
    "data['class'].hist()\n",
    "plt.show()"
   ]
  },
  {
   "cell_type": "code",
   "execution_count": 10,
   "id": "6078cb0e-96a8-4adf-9c47-c66ffd10d97a",
   "metadata": {},
   "outputs": [
    {
     "data": {
      "text/html": [
       "<div>\n",
       "<style scoped>\n",
       "    .dataframe tbody tr th:only-of-type {\n",
       "        vertical-align: middle;\n",
       "    }\n",
       "\n",
       "    .dataframe tbody tr th {\n",
       "        vertical-align: top;\n",
       "    }\n",
       "\n",
       "    .dataframe thead th {\n",
       "        text-align: right;\n",
       "    }\n",
       "</style>\n",
       "<table border=\"1\" class=\"dataframe\">\n",
       "  <thead>\n",
       "    <tr style=\"text-align: right;\">\n",
       "      <th></th>\n",
       "      <th>buying</th>\n",
       "      <th>maint</th>\n",
       "      <th>doors</th>\n",
       "      <th>persons</th>\n",
       "      <th>lug_boot</th>\n",
       "      <th>safety</th>\n",
       "      <th>class</th>\n",
       "    </tr>\n",
       "  </thead>\n",
       "  <tbody>\n",
       "    <tr>\n",
       "      <th>count</th>\n",
       "      <td>1728</td>\n",
       "      <td>1728</td>\n",
       "      <td>1728</td>\n",
       "      <td>1728</td>\n",
       "      <td>1728</td>\n",
       "      <td>1728</td>\n",
       "      <td>1728</td>\n",
       "    </tr>\n",
       "    <tr>\n",
       "      <th>unique</th>\n",
       "      <td>4</td>\n",
       "      <td>4</td>\n",
       "      <td>4</td>\n",
       "      <td>3</td>\n",
       "      <td>3</td>\n",
       "      <td>3</td>\n",
       "      <td>4</td>\n",
       "    </tr>\n",
       "    <tr>\n",
       "      <th>top</th>\n",
       "      <td>vhigh</td>\n",
       "      <td>vhigh</td>\n",
       "      <td>2</td>\n",
       "      <td>2</td>\n",
       "      <td>small</td>\n",
       "      <td>low</td>\n",
       "      <td>unacc</td>\n",
       "    </tr>\n",
       "    <tr>\n",
       "      <th>freq</th>\n",
       "      <td>432</td>\n",
       "      <td>432</td>\n",
       "      <td>432</td>\n",
       "      <td>576</td>\n",
       "      <td>576</td>\n",
       "      <td>576</td>\n",
       "      <td>1210</td>\n",
       "    </tr>\n",
       "  </tbody>\n",
       "</table>\n",
       "</div>"
      ],
      "text/plain": [
       "       buying  maint doors persons lug_boot safety  class\n",
       "count    1728   1728  1728    1728     1728   1728   1728\n",
       "unique      4      4     4       3        3      3      4\n",
       "top     vhigh  vhigh     2       2    small    low  unacc\n",
       "freq      432    432   432     576      576    576   1210"
      ]
     },
     "execution_count": 10,
     "metadata": {},
     "output_type": "execute_result"
    }
   ],
   "source": [
    "data.describe()"
   ]
  },
  {
   "cell_type": "markdown",
   "id": "e6533495-3fc8-4b27-bdb1-38641b5c8556",
   "metadata": {},
   "source": [
    "##### Nice! There is no null value in the dataset.  "
   ]
  },
  {
   "cell_type": "code",
   "execution_count": 11,
   "id": "9be5bf0d-5e17-43df-8557-478182f4fc3e",
   "metadata": {},
   "outputs": [
    {
     "name": "stdout",
     "output_type": "stream",
     "text": [
      "<class 'pandas.core.frame.DataFrame'>\n",
      "RangeIndex: 1728 entries, 0 to 1727\n",
      "Data columns (total 7 columns):\n",
      " #   Column    Non-Null Count  Dtype \n",
      "---  ------    --------------  ----- \n",
      " 0   buying    1728 non-null   object\n",
      " 1   maint     1728 non-null   object\n",
      " 2   doors     1728 non-null   object\n",
      " 3   persons   1728 non-null   object\n",
      " 4   lug_boot  1728 non-null   object\n",
      " 5   safety    1728 non-null   object\n",
      " 6   class     1728 non-null   object\n",
      "dtypes: object(7)\n",
      "memory usage: 94.6+ KB\n"
     ]
    }
   ],
   "source": [
    "data.info()"
   ]
  },
  {
   "cell_type": "code",
   "execution_count": 12,
   "id": "2d45a6ac-11f5-4125-a7f7-65fc8dbbfcf3",
   "metadata": {},
   "outputs": [
    {
     "data": {
      "text/plain": [
       "<AxesSubplot:>"
      ]
     },
     "execution_count": 12,
     "metadata": {},
     "output_type": "execute_result"
    },
    {
     "data": {
      "image/png": "[encoded data removed]",
      "text/plain": [
       "<Figure size 432x288 with 1 Axes>"
      ]
     },
     "metadata": {
      "needs_background": "light"
     },
     "output_type": "display_data"
    }
   ],
   "source": [
    "data['buying'].hist()"
   ]
  },
  {
   "cell_type": "markdown",
   "id": "dd750125-b12d-48c2-b71f-f3d3498c087f",
   "metadata": {},
   "source": [
    "##### Negative correlation between `class` and `buying`"
   ]
  },
  {
   "cell_type": "code",
   "execution_count": 13,
   "id": "ad5e0ad6-d6a3-4001-8388-2c3b43211277",
   "metadata": {},
   "outputs": [
    {
     "data": {
      "image/png": "[encoded data removed]",
      "text/plain": [
       "<Figure size 360x360 with 1 Axes>"
      ]
     },
     "metadata": {
      "needs_background": "light"
     },
     "output_type": "display_data"
    }
   ],
   "source": [
    "sns.catplot(x=\"class\", y=\"buying\", data=data)\n",
    "plt.show()"
   ]
  },
  {
   "cell_type": "markdown",
   "id": "0206db95-a5aa-4ef0-ad8d-8937bdb4a287",
   "metadata": {},
   "source": [
    "Visualizing the distribution of `buying` across attributes "
   ]
  },
  {
   "cell_type": "code",
   "execution_count": 14,
   "id": "2398cbfc-6883-46dc-b16e-90cb2a099fcf",
   "metadata": {},
   "outputs": [
    {
     "data": {
      "image/png": "[encoded data removed]",
      "text/plain": [
       "<Figure size 360x144 with 1 Axes>"
      ]
     },
     "metadata": {
      "needs_background": "light"
     },
     "output_type": "display_data"
    },
    {
     "data": {
      "image/png": "[encoded data removed]",
      "text/plain": [
       "<Figure size 360x144 with 1 Axes>"
      ]
     },
     "metadata": {
      "needs_background": "light"
     },
     "output_type": "display_data"
    },
    {
     "data": {
      "image/png": "[encoded data removed]",
      "text/plain": [
       "<Figure size 360x144 with 1 Axes>"
      ]
     },
     "metadata": {
      "needs_background": "light"
     },
     "output_type": "display_data"
    },
    {
     "data": {
      "image/png": "[encoded data removed]",
      "text/plain": [
       "<Figure size 360x144 with 1 Axes>"
      ]
     },
     "metadata": {
      "needs_background": "light"
     },
     "output_type": "display_data"
    },
    {
     "data": {
      "image/png": "[encoded data removed]",
      "text/plain": [
       "<Figure size 360x144 with 1 Axes>"
      ]
     },
     "metadata": {
      "needs_background": "light"
     },
     "output_type": "display_data"
    },
    {
     "data": {
      "image/png": "[encoded data removed]",
      "text/plain": [
       "<Figure size 360x144 with 1 Axes>"
      ]
     },
     "metadata": {
      "needs_background": "light"
     },
     "output_type": "display_data"
    }
   ],
   "source": [
    "for i in data.columns[1:]:\n",
    "    plt.figure(figsize=(5,2))\n",
    "    plt.title(\"For feature '%s'\"%i)\n",
    "    sns.countplot(data[i],hue=data['buying'])"
   ]
  },
  {
   "cell_type": "markdown",
   "id": "ab5dd7e0-9d7b-4ad5-be9a-cc7a8ec069e8",
   "metadata": {},
   "source": [
    "`vhigh` and `high` buying price are associated with only `unacc` and `acc` classes.\n",
    "\n",
    "##### From the EDA on the data we observe that there is no need to handle missing values, feature scaling, outliers handling and so on. "
   ]
  },
  {
   "cell_type": "markdown",
   "id": "a08af096-e958-4396-92e7-f3972ad38c18",
   "metadata": {},
   "source": [
    "### 3. Preparing the data for Machine Learning Algorithms <a id=\"cell3\"></a>"
   ]
  },
  {
   "cell_type": "markdown",
   "id": "2467cc2d-e3cb-4262-b3af-1dc2ed740f28",
   "metadata": {},
   "source": [
    "##### Performing ordinal encoding since they give better measure of the distance between different categories of an ordinal attribute\n"
   ]
  },
  {
   "cell_type": "code",
   "execution_count": null,
   "id": "6db4c441-1df7-464e-9229-7ea7a6c51d82",
   "metadata": {},
   "outputs": [],
   "source": [
    "# ordinal mapping of the attributes\n",
    "buying_mapping = {\"vhigh\": 3, \"high\": 2, \"med\": 1, 'low': 0}\n",
    "maint_mapping = {\"vhigh\": 3, \"high\": 2, \"med\": 1, 'low': 0}\n",
    "lug_boot_mapping = {\"small\": 0, \"med\": 1, \"big\": 2}\n",
    "safety_mapping = {\"low\": 0, \"med\": 1, \"high\": 2}\n",
    "class_mapping = {\"unacc\": 0, \"acc\": 1, \"good\": 2, \"vgood\": 3}\n",
    "doors_mapping = {\"2\": 0, \"3\": 1, \"4\": 2, \"5more\": 3}\n",
    "persons_mapping = {\"2\": 0, \"3\": 1, \"more\": 2}"
   ]
  },
  {
   "cell_type": "code",
   "execution_count": null,
   "id": "444a0282-f4c7-4a66-a50e-c06d84c9d1c6",
   "metadata": {},
   "outputs": [],
   "source": [
    "# mapping the categories to the respective ordinal value for each attribute\n",
    "trans_data = data.replace({\"buying\": buying_mapping})\n",
    "trans_data = trans_data.replace({\"maint\": maint_mapping})\n",
    "trans_data = trans_data.replace({\"lug_boot\": lug_boot_mapping})\n",
    "trans_data = trans_data.replace({\"safety\": safety_mapping})\n",
    "trans_data = trans_data.replace({\"class\": class_mapping})\n",
    "trans_data = trans_data.replace({\"persons\": persons_mapping})\n",
    "trans_data = trans_data.replace({\"doors\": doors_mapping})"
   ]
  },
  {
   "cell_type": "markdown",
   "id": "7e477980-17b2-4b0d-999a-89f23f9ed224",
   "metadata": {},
   "source": [
    "##### Now we have the data in numeric format let's create the correlation matrix."
   ]
  },
  {
   "cell_type": "code",
   "execution_count": 318,
   "id": "30a1ea50-3882-43cd-b77d-f1900a55c80d",
   "metadata": {},
   "outputs": [
    {
     "data": {
      "image/png": "[encoded data removed]",
      "text/plain": [
       "<Figure size 720x432 with 2 Axes>"
      ]
     },
     "metadata": {},
     "output_type": "display_data"
    }
   ],
   "source": [
    "plt.figure(figsize=(10,6))\n",
    "sns.set(font_scale=1.2)\n",
    "sns.heatmap(trans_data.corr(),annot=True, cmap='jet',linewidth=0.5)\n",
    "plt.title('Correlation matrix');"
   ]
  },
  {
   "cell_type": "markdown",
   "id": "5e9ebd57-5d6a-4906-9864-a8a8c1583762",
   "metadata": {},
   "source": [
    "`class` and `maint` are highly correlated (negatively) \n",
    " \n",
    "`buying` and `class` are highly correlated (negatively) "
   ]
  },
  {
   "cell_type": "markdown",
   "id": "c69f77ad-91f5-4792-a3ec-95661dbfd0c3",
   "metadata": {},
   "source": [
    "#### Testing the initial assumption"
   ]
  },
  {
   "cell_type": "markdown",
   "id": "a4db44fc-b99e-41ec-a49b-42c73aa6311d",
   "metadata": {},
   "source": [
    "##### Let's look at the correlation matrix again:"
   ]
  },
  {
   "cell_type": "code",
   "execution_count": 309,
   "id": "64e79971-c257-40e5-903d-45bc5edfcf85",
   "metadata": {},
   "outputs": [
    {
     "data": {
      "text/plain": [
       "buying      1.000000e+00\n",
       "doors      -3.433468e-17\n",
       "lug_boot   -1.045866e-16\n",
       "safety     -4.082114e-16\n",
       "maint      -1.356939e-15\n",
       "class      -2.827504e-01\n",
       "Name: buying, dtype: float64"
      ]
     },
     "execution_count": 309,
     "metadata": {},
     "output_type": "execute_result"
    }
   ],
   "source": [
    "corr_matrix = trans_data.corr()\n",
    "corr_matrix['buying'].sort_values(ascending=False)"
   ]
  },
  {
   "cell_type": "markdown",
   "id": "df43685d-fa91-4b49-a4e0-ed233776792e",
   "metadata": {},
   "source": [
    "Attributes are negatively correlated with the `buying` attribute\n",
    "\n",
    "> This makes the initial assumptions regarding positive correlation between buying and {doors, lug_boot, safety, persons } FALSE."
   ]
  },
  {
   "cell_type": "markdown",
   "id": "893085d9-9e07-41ff-a291-1095ff12a677",
   "metadata": {},
   "source": [
    "##### Let's look into the distribution of ***buying*** categories on other attributes"
   ]
  },
  {
   "cell_type": "code",
   "execution_count": 310,
   "id": "301c6ecf-9dfc-4592-a045-1fffbcd16f87",
   "metadata": {},
   "outputs": [
    {
     "data": {
      "image/png": "[encoded data removed]",
      "text/plain": [
       "<Figure size 603.94x540 with 30 Axes>"
      ]
     },
     "metadata": {},
     "output_type": "display_data"
    }
   ],
   "source": [
    "sns.pairplot(trans_data, hue=\"buying\", diag_kind=\"hist\", height=1.5, palette=\"dark\")\n",
    "plt.show()"
   ]
  },
  {
   "cell_type": "markdown",
   "id": "889caa41-25d5-4fc8-b4a2-b16f7f0bcf19",
   "metadata": {},
   "source": [
    "#### Splitting the data into training and testing"
   ]
  },
  {
   "cell_type": "code",
   "execution_count": 320,
   "id": "56f6aa93-ea68-4357-9b65-c43d48b43170",
   "metadata": {},
   "outputs": [],
   "source": [
    "from sklearn.model_selection import train_test_split"
   ]
  },
  {
   "cell_type": "code",
   "execution_count": 319,
   "id": "e591c0a5-53a6-44ff-8d91-63d9d19107f4",
   "metadata": {},
   "outputs": [],
   "source": [
    "X = trans_data.drop(['buying'], axis = 1)\n",
    "y = trans_data['buying']"
   ]
  },
  {
   "cell_type": "markdown",
   "id": "c72ca0d2-8ab5-4ce2-a7fb-f9d88a2e4eee",
   "metadata": {},
   "source": [
    "Following general convention - 80% training and 20% testing data, with random shuffling to prevent any potential selection bias"
   ]
  },
  {
   "cell_type": "code",
   "execution_count": 388,
   "id": "eb52926b-8e20-49c9-b0e0-9653f4f334f3",
   "metadata": {},
   "outputs": [],
   "source": [
    "# train-test split\n",
    "X_train, X_test, y_train, y_test = train_test_split(X, y, test_size=0.2, shuffle=True, random_state=42)\n",
    "\n",
    "# train_set['class'].value_counts()/len(train_set)\n",
    "# test_set['class'].value_counts()/len(train_set)"
   ]
  },
  {
   "cell_type": "markdown",
   "id": "14efdc95-63a1-4f44-acfa-5a0f12f40ac0",
   "metadata": {},
   "source": [
    "### 4. Training and evaluating on the training set <a id=\"cell4\"></a>"
   ]
  },
  {
   "cell_type": "code",
   "execution_count": 387,
   "id": "bb1df544-8f6d-4b0c-9bbf-5638ad2f5fa8",
   "metadata": {},
   "outputs": [],
   "source": [
    "# models\n",
    "from sklearn.linear_model import LogisticRegression\n",
    "from sklearn.neighbors import KNeighborsClassifier\n",
    "from sklearn.tree import DecisionTreeRegressor\n",
    "from sklearn.neural_network import MLPClassifier\n",
    "from sklearn import tree\n",
    "\n",
    "# ensemble models\n",
    "from sklearn.ensemble import RandomForestClassifier\n",
    "\n",
    "# metrics\n",
    "# from sklearn.metrics import log_loss\n",
    "from sklearn.model_selection import cross_val_score, learning_curve, GridSearchCV \n",
    "from sklearn.metrics import confusion_matrix, mean_squared_error, \\\n",
    "mean_absolute_error, classification_report, precision_score, recall_score, f1_score,\\\n",
    "matthews_corrcoef, cohen_kappa_score, roc_auc_score"
   ]
  },
  {
   "cell_type": "code",
   "execution_count": 386,
   "id": "f7c95d2d-1628-4001-a6ab-df2d680c3a66",
   "metadata": {},
   "outputs": [],
   "source": [
    "# good to test on various metrics for the multi-classification task\n",
    "def cal_metrics(y_test, y_pred):\n",
    "    print(classification_report(y_test, y_pred))     \n",
    "    print('Recall: %.3f' % recall_score(y_test, y_pred, average='micro'))\n",
    "    print('F1: %.3f' % f1_score(y_test, y_pred, average='micro'))\n",
    "    print(\"matthews_corrcoef: %.3f\" % matthews_corrcoef(y_test, y_pred))\n",
    "    print(\"cohen_kappa_score: %.3f\" % cohen_kappa_score(y_test, y_pred))\n",
    "    print(\"Mean squared error (MSE): %.3f\" % mean_squared_error(y_test, y_pred))\n",
    "    print(\"Mean absolute error (MAE): %.3f\" % mean_absolute_error(y_test, y_pred))\n",
    "\n",
    "# confusion matrix for error analysis\n",
    "def create_confusion_matrix(y_test, y_pred, model_type):\n",
    "    # Plot confusion matrix.\n",
    "    cm_matrix = confusion_matrix(y_test, y_pred)\n",
    "    plt.figure(figsize=(4,4))\n",
    "    sns.set(font_scale=1.4)\n",
    "    sns.heatmap(cm_matrix, annot=True, cbar=True, cmap='jet',linewidth=0.5,fmt=\"d\")\n",
    "    plt.ylabel('True Label')\n",
    "    plt.xlabel('Predicted Label')\n",
    "    plt.title('Confusion Matrix for {}'.format(model_type));"
   ]
  },
  {
   "cell_type": "markdown",
   "id": "1655e0e6-db64-4e1a-b7ee-cbda4aeb8743",
   "metadata": {},
   "source": [
    "### Logistic Regression"
   ]
  },
  {
   "cell_type": "code",
   "execution_count": null,
   "id": "dcb2ff2b-6cd5-401e-b360-b347280d054b",
   "metadata": {},
   "outputs": [],
   "source": [
    "# Initialize a Logistic Regression classifier.\n",
    "logreg = LogisticRegression(solver='saga', multi_class='auto', random_state=42, n_jobs=-1)\n",
    "logreg.fit(X_train, y_train)\n",
    "\n",
    "# cross validation evaluation\n",
    "logreg_cv = cross_val_score(logreg, X_train, y_train, cv=20)"
   ]
  },
  {
   "cell_type": "code",
   "execution_count": null,
   "id": "b0da77dc-c0fc-4c40-8df7-538091979c35",
   "metadata": {},
   "outputs": [],
   "source": [
    "# CV Accuracy\n",
    "print('CV Accuracy: %.3f' % logreg_cv.mean())"
   ]
  },
  {
   "cell_type": "markdown",
   "id": "351bab6e-5a66-4da3-97db-77baac5a3ca0",
   "metadata": {},
   "source": [
    "#### Predictions and error analysis"
   ]
  },
  {
   "cell_type": "code",
   "execution_count": null,
   "id": "46c2ac9b-ae41-4dcf-b43c-d05666a536d9",
   "metadata": {},
   "outputs": [],
   "source": [
    "logreg_pred = logreg.predict(X_test)\n",
    "cal_metrics(y_test, logreg_pred)\n",
    "print('\\n')\n",
    "create_confusion_matrix(y_test, logreg_pred, \"Logistic Regression\")"
   ]
  },
  {
   "cell_type": "markdown",
   "id": "4bf39c37-62d8-4930-acba-21cc86ec6c7b",
   "metadata": {},
   "source": [
    "### K-Nearest Neighbours "
   ]
  },
  {
   "cell_type": "code",
   "execution_count": null,
   "id": "2cdce173-e4bd-40ec-917d-c7e95564e325",
   "metadata": {},
   "outputs": [],
   "source": [
    "# Initialize a decision tree estimator.\n",
    "knn = KNeighborsClassifier(n_jobs=-1)\n",
    "# Train the estimator.\n",
    "knn.fit(X_train, y_train)\n",
    "\n",
    "# cross validation evaluation\n",
    "knn_cv = cross_val_score(knn, X_train, y_train, cv=20)"
   ]
  },
  {
   "cell_type": "code",
   "execution_count": null,
   "id": "1e6008b0-305c-4057-990c-6e52c43c569c",
   "metadata": {},
   "outputs": [],
   "source": [
    "# CV Accuracy\n",
    "print('CV Accuracy: %.3f' % knn_cv.mean())"
   ]
  },
  {
   "cell_type": "markdown",
   "id": "e9fed93d-01be-40a2-bc8e-c14ca5f69cd3",
   "metadata": {},
   "source": [
    "#### Predictions and error analysis"
   ]
  },
  {
   "cell_type": "code",
   "execution_count": null,
   "id": "396880de-c4e1-4748-b075-6485a439922e",
   "metadata": {},
   "outputs": [],
   "source": [
    "knn_pred = knn.predict(X_test)\n",
    "cal_metrics(y_test, tr_pred)\n",
    "print('\\n')\n",
    "create_confusion_matrix(y_test, knn_pred, \"K-Nearest Neighbours\")"
   ]
  },
  {
   "cell_type": "markdown",
   "id": "cf6f893c-6eda-4b96-83d0-bc1ba27487cf",
   "metadata": {},
   "source": [
    "### Decision Tress"
   ]
  },
  {
   "cell_type": "code",
   "execution_count": null,
   "id": "22d062d1-8e63-4736-903e-0c86150d6f2f",
   "metadata": {},
   "outputs": [],
   "source": [
    "# Initialize a decision tree estimator.\n",
    "tr = tree.DecisionTreeClassifier(max_depth=5, criterion='entropy', random_state=42)\n",
    "# Train the estimator.\n",
    "tr.fit(X_train, y_train)\n",
    "\n",
    "# cross validation evaluation\n",
    "tr_cv = cross_val_score(tr, X_train, y_train, cv=20)"
   ]
  },
  {
   "cell_type": "code",
   "execution_count": null,
   "id": "59f81ba5-65f7-45be-83cd-8308ff34c8d2",
   "metadata": {},
   "outputs": [],
   "source": [
    "# CV Accuracy\n",
    "print('CV Accuracy: %.3f' % tr_cv.mean())"
   ]
  },
  {
   "cell_type": "markdown",
   "id": "a890d361-9260-43f1-8cd1-e3cbb000d6bf",
   "metadata": {},
   "source": [
    "#### Predictions and error analysis"
   ]
  },
  {
   "cell_type": "code",
   "execution_count": null,
   "id": "46c783e5-9577-496b-a963-663350f501d5",
   "metadata": {},
   "outputs": [],
   "source": [
    "tr_pred = tr.predict(X_test)\n",
    "cal_metrics(y_test, tr_pred)\n",
    "print('\\n')\n",
    "create_confusion_matrix(y_test, tr_pred, \"K-Nearest Neighbours\")"
   ]
  },
  {
   "cell_type": "markdown",
   "id": "d4ef1ebf-e34a-4455-90b0-65e79a97f6ff",
   "metadata": {},
   "source": [
    "### 4.1 Multi Layered Perceptron"
   ]
  },
  {
   "cell_type": "code",
   "execution_count": 383,
   "id": "c9483a81-bd7e-4433-b0a2-d688c9361351",
   "metadata": {},
   "outputs": [],
   "source": [
    "mlp = MLPClassifier(hidden_layer_sizes=(10), max_iter=100, random_state=42, shuffle=True, verbose=False)\n",
    "mlp.fit(X_train, y_train)\n",
    "\n",
    "# cross validation evaluation\n",
    "mlp_cv = cross_val_score(mlp, X_train, y_train, cv=20)"
   ]
  },
  {
   "cell_type": "code",
   "execution_count": 384,
   "id": "bf9f2cd2-bad4-4d1b-b7f3-08d99e801943",
   "metadata": {},
   "outputs": [
    {
     "name": "stdout",
     "output_type": "stream",
     "text": [
      "CV Accuracy: 0.321\n"
     ]
    }
   ],
   "source": [
    "# CV Accuracy\n",
    "print('CV Accuracy: %.3f' % mlp_cv.mean())"
   ]
  },
  {
   "cell_type": "markdown",
   "id": "067c45e7-a970-472c-81fe-58cfab19578c",
   "metadata": {},
   "source": [
    "#### Predictions and error analysis"
   ]
  },
  {
   "cell_type": "code",
   "execution_count": 385,
   "id": "42faeb11-3d0d-484a-a217-8c8574dc2c2d",
   "metadata": {},
   "outputs": [
    {
     "name": "stdout",
     "output_type": "stream",
     "text": [
      "              precision    recall  f1-score   support\n",
      "\n",
      "           0       0.50      0.41      0.45        83\n",
      "           1       0.23      0.30      0.26        77\n",
      "           2       0.25      0.16      0.20        92\n",
      "           3       0.36      0.45      0.40        94\n",
      "\n",
      "    accuracy                           0.33       346\n",
      "   macro avg       0.33      0.33      0.33       346\n",
      "weighted avg       0.33      0.33      0.33       346\n",
      "\n",
      "Recall: 0.329\n",
      "F1: 0.329\n",
      "matthews_corrcoef: 0.107\n",
      "cohen_kappa_score: 0.106\n",
      "Mean squared error (MSE): 1.624\n",
      "Mean absolute error (MAE): 0.954\n",
      "\n",
      "\n"
     ]
    },
    {
     "data": {
      "image/png": "[encoded data removed]",
      "text/plain": [
       "<Figure size 288x288 with 2 Axes>"
      ]
     },
     "metadata": {},
     "output_type": "display_data"
    }
   ],
   "source": [
    "mlp_pred = mlp.predict(X_test)\n",
    "cal_metrics(y_test, mlp_pred)\n",
    "print('\\n')\n",
    "create_confusion_matrix(y_test, mlp_pred, \"MLP\")"
   ]
  },
  {
   "cell_type": "markdown",
   "id": "7d433a35-66df-4be6-b241-3ffcbfef6118",
   "metadata": {},
   "source": [
    "### 4.2 Multi Layered Perceptron - Grid Search"
   ]
  },
  {
   "cell_type": "code",
   "execution_count": null,
   "id": "63e61b63-897f-423d-9ecc-f690bee3e4d4",
   "metadata": {},
   "outputs": [],
   "source": [
    "gs_mlp_pred = gs_mlp.predict(X_test)\n",
    "cal_metrics(y_test, gs_mlp_pred)\n",
    "print('\\n')\n",
    "create_confusion_matrix(y_test, gs_mlp_pred, \"MLP\")"
   ]
  },
  {
   "cell_type": "code",
   "execution_count": null,
   "id": "39ee1ac0-89a0-490f-9058-09b9a13ce1fb",
   "metadata": {},
   "outputs": [],
   "source": [
    "# Best parameters.\n",
    "print(\"Best MLP Parameters: {}\".format(gs_mlp.best_params_))\n",
    "\n",
    "# Cross validation accuracy for the best parameters.\n",
    "print('CV accuracy: %0.3f' % gs_mlp.best_score_)\n",
    "\n",
    "# Accuracy: 1 is perfect prediction.\n",
    "print('Accuracy: %0.3f' % (gs_mlp.score(X_test,y_test)))"
   ]
  },
  {
   "cell_type": "markdown",
   "id": "7ab71eba-0e2d-4f06-9980-6f291b3b4d2e",
   "metadata": {},
   "source": [
    "### Ensembling - Random Forest"
   ]
  },
  {
   "cell_type": "code",
   "execution_count": null,
   "id": "e4565474-c6f6-4848-a161-866be98117b0",
   "metadata": {},
   "outputs": [],
   "source": [
    "# Initialize a Random Forest classifier.\n",
    "rfc = RandomForestClassifier(n_jobs=-1, random_state=51)\n",
    "rfc.fit(X_train, y_train)\n",
    "\n",
    "# cross validation evaluation\n",
    "rfc_cv = cross_val_score(rfc, X_train, y_train, cv=20)"
   ]
  },
  {
   "cell_type": "code",
   "execution_count": null,
   "id": "4fd35f31-d1c7-48be-b69c-947efc2f6dac",
   "metadata": {},
   "outputs": [],
   "source": [
    "# CV Accuracy\n",
    "print('CV Accuracy: %.3f' % rfc_cv.mean())"
   ]
  },
  {
   "cell_type": "markdown",
   "id": "eebd0f2b-e1cd-48ab-a512-89d93c1ccc0d",
   "metadata": {},
   "source": [
    "#### Predictions and error analysis"
   ]
  },
  {
   "cell_type": "code",
   "execution_count": null,
   "id": "20ad561c-2d40-48ea-ada1-f7cf2ab58d27",
   "metadata": {},
   "outputs": [],
   "source": [
    "rfc_pred = rfc.predict(X_test)\n",
    "cal_metrics(y_test, rfc_pred)\n",
    "print('\\n')\n",
    "create_confusion_matrix(y_test, rfc_pred, \"Random Forest\")"
   ]
  },
  {
   "cell_type": "code",
   "execution_count": null,
   "id": "c6774588-1357-4386-9a47-7910133dc16b",
   "metadata": {},
   "outputs": [],
   "source": []
  },
  {
   "cell_type": "code",
   "execution_count": null,
   "id": "532ef7ba-cc2a-4f11-8dac-036414c75de8",
   "metadata": {},
   "outputs": [],
   "source": []
  },
  {
   "cell_type": "code",
   "execution_count": null,
   "id": "8ca4c038-a5a1-48f4-afcb-5425711fc0ca",
   "metadata": {},
   "outputs": [],
   "source": []
  },
  {
   "cell_type": "code",
   "execution_count": null,
   "id": "30291ba6-9f5d-4bbd-986a-36fc8df15840",
   "metadata": {},
   "outputs": [],
   "source": []
  },
  {
   "cell_type": "code",
   "execution_count": 104,
   "id": "ca981018-58f5-4119-818f-ed5b8ad5058e",
   "metadata": {},
   "outputs": [],
   "source": [
    "print(rfc.score(X_test,y_test))\n",
    "print(f1_score(y_test,rfc.predict(X_test),average='macro'))"
   ]
  },
  {
   "cell_type": "markdown",
   "id": "5a765371-3bc0-4532-ba7c-a9ae55d17c0f",
   "metadata": {},
   "source": [
    "Our data already has less features and even if we drop the least important feature, then also the accuracy is reducing to 93.64%\n",
    "\n",
    "So, dropping a feature is not an option to reduce variance in our model.\n",
    "\n",
    "The only option we are left with is to get more data.\n",
    "\n"
   ]
  },
  {
   "cell_type": "code",
   "execution_count": 108,
   "id": "978c4490-1d94-428e-801a-fb8001fd479e",
   "metadata": {},
   "outputs": [
    {
     "data": {
      "text/plain": [
       "0.12716763005780346"
      ]
     },
     "execution_count": 108,
     "metadata": {},
     "output_type": "execute_result"
    }
   ],
   "source": [
    "knn=KNeighborsClassifier(n_jobs=-1)\n",
    "knn.fit(X_train,y_train)\n",
    "pred=knn.predict(X_test)\n",
    "knn.score(X_test,y_test)"
   ]
  },
  {
   "cell_type": "code",
   "execution_count": 109,
   "id": "8caaa6e5-e1e1-4e6b-86f7-c6d8a0bbb0b4",
   "metadata": {},
   "outputs": [
    {
     "name": "stdout",
     "output_type": "stream",
     "text": [
      "              precision    recall  f1-score   support\n",
      "\n",
      "           0       0.16      0.22      0.19        83\n",
      "           1       0.06      0.09      0.08        77\n",
      "           2       0.06      0.04      0.05        92\n",
      "           3       0.25      0.16      0.20        94\n",
      "\n",
      "    accuracy                           0.13       346\n",
      "   macro avg       0.14      0.13      0.13       346\n",
      "weighted avg       0.14      0.13      0.13       346\n",
      "\n"
     ]
    }
   ],
   "source": [
    "print(classification_report(y_test,pred))"
   ]
  },
  {
   "cell_type": "code",
   "execution_count": 110,
   "id": "3be94033-1ff2-4516-b266-d80584cc34b8",
   "metadata": {},
   "outputs": [
    {
     "data": {
      "text/plain": [
       "[<matplotlib.lines.Line2D at 0x7f97f9638a00>]"
      ]
     },
     "execution_count": 110,
     "metadata": {},
     "output_type": "execute_result"
    },
    {
     "data": {
      "image/png": "[encoded data removed]",
      "text/plain": [
       "<Figure size 864x576 with 1 Axes>"
      ]
     },
     "metadata": {},
     "output_type": "display_data"
    }
   ],
   "source": [
    "lc=learning_curve(knn,X_train,y_train,cv=10,n_jobs=-1)\n",
    "size=lc[0]\n",
    "train_score=[lc[1][i].mean() for i in range (0,5)]\n",
    "test_score=[lc[2][i].mean() for i in range (0,5)]\n",
    "fig=plt.figure(figsize=(12,8))\n",
    "plt.plot(size,train_score)\n",
    "plt.plot(size,test_score)"
   ]
  },
  {
   "cell_type": "code",
   "execution_count": null,
   "id": "d58bea2b-ff2a-423b-a95a-31ac8d4ddcb7",
   "metadata": {},
   "outputs": [],
   "source": []
  },
  {
   "cell_type": "code",
   "execution_count": null,
   "id": "6d76339c-3de6-4342-9d26-39f1afb3eb4b",
   "metadata": {},
   "outputs": [],
   "source": []
  },
  {
   "cell_type": "markdown",
   "id": "86c57004-77b2-4bf6-b48c-3e51378b9a8e",
   "metadata": {},
   "source": [
    "### 5. Selecting the best model <a id=\"cell5\"></a>"
   ]
  },
  {
   "cell_type": "markdown",
   "id": "7cfc3316-15e5-42e3-a503-4d6af769a58f",
   "metadata": {},
   "source": [
    "### 6. Conclusions: Presenting solutions <a id=\"cell6\"></a>"
   ]
  },
  {
   "cell_type": "markdown",
   "id": "8884ebf4-eebf-4983-b698-daeb6c8f9ef6",
   "metadata": {},
   "source": [
    "Our data already has less features and even if we drop the least important feature, then also the accuracy is reducing to 93.64%\n",
    "\n",
    "So, dropping a feature is not an option to reduce variance in our model.\n",
    "\n",
    "The only option we are left with is to get more data.\n",
    "\n",
    "If you have a dataset with equal amounts of classes, then random guessing would give you 50% accuracy on average.\n",
    "\n",
    "\n",
    "\n"
   ]
  },
  {
   "cell_type": "code",
   "execution_count": null,
   "id": "2d04d1d1-f5f4-480b-b4b3-455964291851",
   "metadata": {},
   "outputs": [],
   "source": [
    "lc = learning_curve(gs_mlp,X_train,y_train,cv=10,n_jobs=-1, scoring=\"accuracy\")\n",
    "size = lc[0]\n",
    "train_score = [lc[1][i].mean() for i in range (0,5)]\n",
    "test_score = [lc[2][i].mean() for i in range (0,5)]\n",
    "fig = plt.figure(figsize=(14,4))\n",
    "plt.plot(size,train_score, color='red', label=\"train\")\n",
    "plt.plot(size,test_score)\n",
    "\n",
    "\n",
    "# The mean squared error (relative error).\n",
    "print(\"Mean squared error (MSE): %.3f\" % mean_absolute_error(y_test, gs_mlp_pred))\n",
    "# Explained average absolute error (average error).\n",
    "print(\"Average absolute error (MAE): %.3f\" % mean_absolute_error(y_test, gs_mlp_pred))\n",
    "\n",
    "# from scipy import stats\n",
    "# con = 0.95\n",
    "# squared_errors = (gs_mlp_pred - y_test)**2\n",
    "# np.sqrt(stats.t.interval(con, len(squared_errors) - 1, loc=squared_errors.mean(), \n",
    "#                          scale=stats.sem(squared_errors)))"
   ]
  }
 ],
 "metadata": {
  "kernelspec": {
   "display_name": "Python 3 (ipykernel)",
   "language": "python",
   "name": "python3"
  },
  "language_info": {
   "codemirror_mode": {
    "name": "ipython",
    "version": 3
   },
   "file_extension": ".py",
   "mimetype": "text/x-python",
   "name": "python",
   "nbconvert_exporter": "python",
   "pygments_lexer": "ipython3",
   "version": "3.8.11"
  }
 },
 "nbformat": 4,
 "nbformat_minor": 5
}
