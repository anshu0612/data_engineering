{
 "cells": [
  {
   "cell_type": "code",
   "execution_count": null,
   "id": "09644c3c-b0a4-444a-b186-00167896b928",
   "metadata": {},
   "outputs": [],
   "source": [
    "# | class values\n",
    "\n",
    "# unacc, acc, good, vgood\n",
    "\n",
    "# | attributes\n",
    "\n",
    "# buying:   vhigh, high, med, low.\n",
    "# maint:    vhigh, high, med, low.\n",
    "# doors:    2, 3, 4, 5more.\n",
    "# persons:  2, 4, more.\n",
    "# lug_boot: small, med, big.\n",
    "# safety:   low, med, high."
   ]
  },
  {
   "cell_type": "code",
   "execution_count": 37,
   "id": "4667bf64-d203-4bd2-8dca-3105c414a465",
   "metadata": {},
   "outputs": [],
   "source": [
    "import pandas as pd\n",
    "%matplotlib inline"
   ]
  },
  {
   "cell_type": "code",
   "execution_count": 9,
   "id": "38e24a3b-7c23-4b97-b114-89a777fbd3c3",
   "metadata": {},
   "outputs": [],
   "source": [
    "DATA_PATH = \"https://archive.ics.uci.edu/ml/machine-learning-databases/car/car.data\"\n",
    "CAR_NAMES_PATH = \"https://archive.ics.uci.edu/ml/machine-learning-databases/car/car.names\"\n",
    "\n",
    "c45_CAR_NAMES_PATH = \"https://archive.ics.uci.edu/ml/machine-learning-databases/car/car.c45-names\""
   ]
  },
  {
   "cell_type": "code",
   "execution_count": 4,
   "id": "5cde9f26-165a-4490-9dfa-fd9100745105",
   "metadata": {},
   "outputs": [
    {
     "name": "stdout",
     "output_type": "stream",
     "text": [
      "/Users/anshu/opt/anaconda3/bin/python3: No module named wget\n"
     ]
    }
   ],
   "source": [
    "!python3 -m wget DATA_PATH"
   ]
  },
  {
   "cell_type": "code",
   "execution_count": 13,
   "id": "f25e621f-3360-426e-869a-ce023d8d871c",
   "metadata": {},
   "outputs": [],
   "source": [
    "import urllib.request\n",
    "# url = 'https://address'\n",
    "filename = 'data.txt'\n",
    "filename2 = 'car_names.txt'\n",
    "filename3 = 'car45_names.txt'"
   ]
  },
  {
   "cell_type": "code",
   "execution_count": 11,
   "id": "a75694ce-28e4-4c4a-a057-2cd1a7aaafc0",
   "metadata": {},
   "outputs": [
    {
     "data": {
      "text/plain": [
       "('data.txt', <http.client.HTTPMessage at 0x7fe58917adc0>)"
      ]
     },
     "execution_count": 11,
     "metadata": {},
     "output_type": "execute_result"
    }
   ],
   "source": [
    "urllib.request.urlretrieve(DATA_PATH, filename)\n",
    "urllib.request.urlretrieve(c45_CAR_NAMES_PATH, filename3)\n",
    "urllib.request.urlretrieve(CAR_NAMES_PATH, filename2)"
   ]
  },
  {
   "cell_type": "code",
   "execution_count": 46,
   "id": "d981feea-7b52-490c-8378-705bb201e2eb",
   "metadata": {},
   "outputs": [],
   "source": [
    "ATTRIBUTES = ['buying', 'maint', 'doors', 'persons', 'lug_boot', 'safety', 'class']"
   ]
  },
  {
   "cell_type": "code",
   "execution_count": 47,
   "id": "9a7ae654-6f38-4126-9cbe-26308a8b9f57",
   "metadata": {},
   "outputs": [],
   "source": [
    "data = pd.read_csv(\"data/car.data\", names=ATTRIBUTES)"
   ]
  },
  {
   "cell_type": "code",
   "execution_count": 26,
   "id": "ba2169ab-0064-414b-b9c6-080674aea767",
   "metadata": {},
   "outputs": [],
   "source": [
    "# unacc, acc, good, vgood"
   ]
  },
  {
   "cell_type": "code",
   "execution_count": 27,
   "id": "5cbaad36-2dbc-4364-b932-af0f45b017b3",
   "metadata": {},
   "outputs": [
    {
     "data": {
      "text/html": [
       "<div>\n",
       "<style scoped>\n",
       "    .dataframe tbody tr th:only-of-type {\n",
       "        vertical-align: middle;\n",
       "    }\n",
       "\n",
       "    .dataframe tbody tr th {\n",
       "        vertical-align: top;\n",
       "    }\n",
       "\n",
       "    .dataframe thead th {\n",
       "        text-align: right;\n",
       "    }\n",
       "</style>\n",
       "<table border=\"1\" class=\"dataframe\">\n",
       "  <thead>\n",
       "    <tr style=\"text-align: right;\">\n",
       "      <th></th>\n",
       "      <th>buying</th>\n",
       "      <th>maint</th>\n",
       "      <th>doors</th>\n",
       "      <th>persons</th>\n",
       "      <th>lug_boot</th>\n",
       "      <th>safety</th>\n",
       "      <th>class</th>\n",
       "    </tr>\n",
       "  </thead>\n",
       "  <tbody>\n",
       "    <tr>\n",
       "      <th>0</th>\n",
       "      <td>vhigh</td>\n",
       "      <td>vhigh</td>\n",
       "      <td>2</td>\n",
       "      <td>2</td>\n",
       "      <td>small</td>\n",
       "      <td>low</td>\n",
       "      <td>unacc</td>\n",
       "    </tr>\n",
       "    <tr>\n",
       "      <th>1</th>\n",
       "      <td>vhigh</td>\n",
       "      <td>vhigh</td>\n",
       "      <td>2</td>\n",
       "      <td>2</td>\n",
       "      <td>small</td>\n",
       "      <td>med</td>\n",
       "      <td>unacc</td>\n",
       "    </tr>\n",
       "    <tr>\n",
       "      <th>2</th>\n",
       "      <td>vhigh</td>\n",
       "      <td>vhigh</td>\n",
       "      <td>2</td>\n",
       "      <td>2</td>\n",
       "      <td>small</td>\n",
       "      <td>high</td>\n",
       "      <td>unacc</td>\n",
       "    </tr>\n",
       "    <tr>\n",
       "      <th>3</th>\n",
       "      <td>vhigh</td>\n",
       "      <td>vhigh</td>\n",
       "      <td>2</td>\n",
       "      <td>2</td>\n",
       "      <td>med</td>\n",
       "      <td>low</td>\n",
       "      <td>unacc</td>\n",
       "    </tr>\n",
       "    <tr>\n",
       "      <th>4</th>\n",
       "      <td>vhigh</td>\n",
       "      <td>vhigh</td>\n",
       "      <td>2</td>\n",
       "      <td>2</td>\n",
       "      <td>med</td>\n",
       "      <td>med</td>\n",
       "      <td>unacc</td>\n",
       "    </tr>\n",
       "    <tr>\n",
       "      <th>5</th>\n",
       "      <td>vhigh</td>\n",
       "      <td>vhigh</td>\n",
       "      <td>2</td>\n",
       "      <td>2</td>\n",
       "      <td>med</td>\n",
       "      <td>high</td>\n",
       "      <td>unacc</td>\n",
       "    </tr>\n",
       "    <tr>\n",
       "      <th>6</th>\n",
       "      <td>vhigh</td>\n",
       "      <td>vhigh</td>\n",
       "      <td>2</td>\n",
       "      <td>2</td>\n",
       "      <td>big</td>\n",
       "      <td>low</td>\n",
       "      <td>unacc</td>\n",
       "    </tr>\n",
       "    <tr>\n",
       "      <th>7</th>\n",
       "      <td>vhigh</td>\n",
       "      <td>vhigh</td>\n",
       "      <td>2</td>\n",
       "      <td>2</td>\n",
       "      <td>big</td>\n",
       "      <td>med</td>\n",
       "      <td>unacc</td>\n",
       "    </tr>\n",
       "    <tr>\n",
       "      <th>8</th>\n",
       "      <td>vhigh</td>\n",
       "      <td>vhigh</td>\n",
       "      <td>2</td>\n",
       "      <td>2</td>\n",
       "      <td>big</td>\n",
       "      <td>high</td>\n",
       "      <td>unacc</td>\n",
       "    </tr>\n",
       "    <tr>\n",
       "      <th>9</th>\n",
       "      <td>vhigh</td>\n",
       "      <td>vhigh</td>\n",
       "      <td>2</td>\n",
       "      <td>4</td>\n",
       "      <td>small</td>\n",
       "      <td>low</td>\n",
       "      <td>unacc</td>\n",
       "    </tr>\n",
       "  </tbody>\n",
       "</table>\n",
       "</div>"
      ],
      "text/plain": [
       "  buying  maint doors persons lug_boot safety  class\n",
       "0  vhigh  vhigh     2       2    small    low  unacc\n",
       "1  vhigh  vhigh     2       2    small    med  unacc\n",
       "2  vhigh  vhigh     2       2    small   high  unacc\n",
       "3  vhigh  vhigh     2       2      med    low  unacc\n",
       "4  vhigh  vhigh     2       2      med    med  unacc\n",
       "5  vhigh  vhigh     2       2      med   high  unacc\n",
       "6  vhigh  vhigh     2       2      big    low  unacc\n",
       "7  vhigh  vhigh     2       2      big    med  unacc\n",
       "8  vhigh  vhigh     2       2      big   high  unacc\n",
       "9  vhigh  vhigh     2       4    small    low  unacc"
      ]
     },
     "execution_count": 27,
     "metadata": {},
     "output_type": "execute_result"
    }
   ],
   "source": [
    "data.head(10)"
   ]
  },
  {
   "cell_type": "code",
   "execution_count": 86,
   "id": "84525350-b77a-4467-9bc1-dd4cf489290b",
   "metadata": {},
   "outputs": [],
   "source": [
    "X=data[data.columns[1:]]\n",
    "y=data['buying']"
   ]
  },
  {
   "cell_type": "code",
   "execution_count": 31,
   "id": "94e6ab7b-1c64-4e07-8a1a-e06964d1f873",
   "metadata": {},
   "outputs": [
    {
     "data": {
      "text/plain": [
       "(1728, 6)"
      ]
     },
     "execution_count": 31,
     "metadata": {},
     "output_type": "execute_result"
    }
   ],
   "source": [
    "X.shape"
   ]
  },
  {
   "cell_type": "code",
   "execution_count": 32,
   "id": "e46d6162-5a0f-468b-91d0-5514531451e0",
   "metadata": {},
   "outputs": [
    {
     "data": {
      "text/plain": [
       "Index(['buying', 'maint', 'doors', 'persons', 'lug_boot', 'safety'], dtype='object')"
      ]
     },
     "execution_count": 32,
     "metadata": {},
     "output_type": "execute_result"
    }
   ],
   "source": [
    "X.columns"
   ]
  },
  {
   "cell_type": "code",
   "execution_count": 36,
   "id": "6078cb0e-96a8-4adf-9c47-c66ffd10d97a",
   "metadata": {},
   "outputs": [
    {
     "data": {
      "text/html": [
       "<div>\n",
       "<style scoped>\n",
       "    .dataframe tbody tr th:only-of-type {\n",
       "        vertical-align: middle;\n",
       "    }\n",
       "\n",
       "    .dataframe tbody tr th {\n",
       "        vertical-align: top;\n",
       "    }\n",
       "\n",
       "    .dataframe thead th {\n",
       "        text-align: right;\n",
       "    }\n",
       "</style>\n",
       "<table border=\"1\" class=\"dataframe\">\n",
       "  <thead>\n",
       "    <tr style=\"text-align: right;\">\n",
       "      <th></th>\n",
       "      <th>buying</th>\n",
       "      <th>maint</th>\n",
       "      <th>doors</th>\n",
       "      <th>persons</th>\n",
       "      <th>lug_boot</th>\n",
       "      <th>safety</th>\n",
       "    </tr>\n",
       "  </thead>\n",
       "  <tbody>\n",
       "    <tr>\n",
       "      <th>count</th>\n",
       "      <td>1728</td>\n",
       "      <td>1728</td>\n",
       "      <td>1728</td>\n",
       "      <td>1728</td>\n",
       "      <td>1728</td>\n",
       "      <td>1728</td>\n",
       "    </tr>\n",
       "    <tr>\n",
       "      <th>unique</th>\n",
       "      <td>4</td>\n",
       "      <td>4</td>\n",
       "      <td>4</td>\n",
       "      <td>3</td>\n",
       "      <td>3</td>\n",
       "      <td>3</td>\n",
       "    </tr>\n",
       "    <tr>\n",
       "      <th>top</th>\n",
       "      <td>vhigh</td>\n",
       "      <td>vhigh</td>\n",
       "      <td>2</td>\n",
       "      <td>2</td>\n",
       "      <td>small</td>\n",
       "      <td>low</td>\n",
       "    </tr>\n",
       "    <tr>\n",
       "      <th>freq</th>\n",
       "      <td>432</td>\n",
       "      <td>432</td>\n",
       "      <td>432</td>\n",
       "      <td>576</td>\n",
       "      <td>576</td>\n",
       "      <td>576</td>\n",
       "    </tr>\n",
       "  </tbody>\n",
       "</table>\n",
       "</div>"
      ],
      "text/plain": [
       "       buying  maint doors persons lug_boot safety\n",
       "count    1728   1728  1728    1728     1728   1728\n",
       "unique      4      4     4       3        3      3\n",
       "top     vhigh  vhigh     2       2    small    low\n",
       "freq      432    432   432     576      576    576"
      ]
     },
     "execution_count": 36,
     "metadata": {},
     "output_type": "execute_result"
    }
   ],
   "source": [
    "X.describe()"
   ]
  },
  {
   "cell_type": "code",
   "execution_count": 34,
   "id": "9be5bf0d-5e17-43df-8557-478182f4fc3e",
   "metadata": {},
   "outputs": [
    {
     "name": "stdout",
     "output_type": "stream",
     "text": [
      "<class 'pandas.core.frame.DataFrame'>\n",
      "RangeIndex: 1728 entries, 0 to 1727\n",
      "Data columns (total 6 columns):\n",
      " #   Column    Non-Null Count  Dtype \n",
      "---  ------    --------------  ----- \n",
      " 0   buying    1728 non-null   object\n",
      " 1   maint     1728 non-null   object\n",
      " 2   doors     1728 non-null   object\n",
      " 3   persons   1728 non-null   object\n",
      " 4   lug_boot  1728 non-null   object\n",
      " 5   safety    1728 non-null   object\n",
      "dtypes: object(6)\n",
      "memory usage: 81.1+ KB\n"
     ]
    }
   ],
   "source": [
    "X.info()"
   ]
  },
  {
   "cell_type": "code",
   "execution_count": 41,
   "id": "19383606-f4bf-4881-be6b-bf223692392d",
   "metadata": {},
   "outputs": [
    {
     "data": {
      "text/plain": [
       "vhigh    432\n",
       "high     432\n",
       "med      432\n",
       "low      432\n",
       "Name: buying, dtype: int64"
      ]
     },
     "execution_count": 41,
     "metadata": {},
     "output_type": "execute_result"
    }
   ],
   "source": [
    "X['buying'].value_counts()"
   ]
  },
  {
   "cell_type": "code",
   "execution_count": 42,
   "id": "20ad3174-5257-4413-8f76-691308fa8a8e",
   "metadata": {},
   "outputs": [
    {
     "data": {
      "text/plain": [
       "vhigh    432\n",
       "high     432\n",
       "med      432\n",
       "low      432\n",
       "Name: maint, dtype: int64"
      ]
     },
     "execution_count": 42,
     "metadata": {},
     "output_type": "execute_result"
    }
   ],
   "source": [
    "X['maint'].value_counts()"
   ]
  },
  {
   "cell_type": "code",
   "execution_count": 43,
   "id": "8d724904-a96b-4143-8a69-d872e0c1078c",
   "metadata": {},
   "outputs": [
    {
     "data": {
      "text/plain": [
       "2        432\n",
       "3        432\n",
       "4        432\n",
       "5more    432\n",
       "Name: doors, dtype: int64"
      ]
     },
     "execution_count": 43,
     "metadata": {},
     "output_type": "execute_result"
    }
   ],
   "source": [
    "X['doors'].value_counts()"
   ]
  },
  {
   "cell_type": "code",
   "execution_count": 44,
   "id": "a2ecc044-55b9-43b8-9479-3dc28a9e1173",
   "metadata": {},
   "outputs": [
    {
     "data": {
      "text/plain": [
       "2       576\n",
       "4       576\n",
       "more    576\n",
       "Name: persons, dtype: int64"
      ]
     },
     "execution_count": 44,
     "metadata": {},
     "output_type": "execute_result"
    }
   ],
   "source": [
    "X['persons'].value_counts()"
   ]
  },
  {
   "cell_type": "code",
   "execution_count": 45,
   "id": "e92ce069-5d78-4a3c-8701-fd5d9f071135",
   "metadata": {},
   "outputs": [
    {
     "data": {
      "text/plain": [
       "small    576\n",
       "med      576\n",
       "big      576\n",
       "Name: lug_boot, dtype: int64"
      ]
     },
     "execution_count": 45,
     "metadata": {},
     "output_type": "execute_result"
    }
   ],
   "source": [
    "X['lug_boot'].value_counts()"
   ]
  },
  {
   "cell_type": "code",
   "execution_count": 50,
   "id": "4daeb9df-05de-4d06-9df5-1bdd26e7f7bd",
   "metadata": {},
   "outputs": [],
   "source": [
    "import matplotlib.pyplot as plt\n"
   ]
  },
  {
   "cell_type": "code",
   "execution_count": 54,
   "id": "dfe75c1b-02c3-4a37-8731-a77f06d26d7d",
   "metadata": {},
   "outputs": [
    {
     "name": "stderr",
     "output_type": "stream",
     "text": [
      "/var/folders/mv/c151lb7j7xx6ff_q9_85p_pc0000gn/T/ipykernel_43001/751685523.py:5: UserWarning: Matplotlib is currently using module://matplotlib_inline.backend_inline, which is a non-GUI backend, so cannot show the figure.\n",
      "  fig.show()\n"
     ]
    },
    {
     "data": {
      "image/png": "[encoded data removed]",
      "text/plain": [
       "<Figure size 432x288 with 7 Axes>"
      ]
     },
     "metadata": {
      "needs_background": "light"
     },
     "output_type": "display_data"
    }
   ],
   "source": [
    "# categorical_features = [\"colour\", \"direction\"]\n",
    "fig, ax = plt.subplots(1, len(ATTRIBUTES))\n",
    "for i, categorical_feature in enumerate(data[ATTRIBUTES]):\n",
    "    data[categorical_feature].value_counts().plot(kind='bar', ax=ax[i]).set_title(categorical_feature)\n",
    "fig.show()"
   ]
  },
  {
   "cell_type": "code",
   "execution_count": 55,
   "id": "c823b111-83a1-48ce-b971-9ee26657e71b",
   "metadata": {},
   "outputs": [
    {
     "data": {
      "text/plain": [
       "Index(['buying', 'maint', 'doors', 'persons', 'lug_boot', 'safety', 'class'], dtype='object')"
      ]
     },
     "execution_count": 55,
     "metadata": {},
     "output_type": "execute_result"
    }
   ],
   "source": [
    "data.columns"
   ]
  },
  {
   "cell_type": "code",
   "execution_count": 58,
   "id": "67580264-a5c3-423c-9b77-4f281e2d518f",
   "metadata": {},
   "outputs": [
    {
     "data": {
      "text/plain": [
       "<AxesSubplot:>"
      ]
     },
     "execution_count": 58,
     "metadata": {},
     "output_type": "execute_result"
    },
    {
     "data": {
      "image/png": "[encoded data removed]",
      "text/plain": [
       "<Figure size 432x288 with 1 Axes>"
      ]
     },
     "metadata": {
      "needs_background": "light"
     },
     "output_type": "display_data"
    }
   ],
   "source": [
    "data['buying'].value_counts().plot(kind='bar')"
   ]
  },
  {
   "cell_type": "code",
   "execution_count": 83,
   "id": "9e117381-c1ac-4fe4-8c64-1bf97242a75c",
   "metadata": {},
   "outputs": [
    {
     "data": {
      "text/plain": [
       "<AxesSubplot:>"
      ]
     },
     "execution_count": 83,
     "metadata": {},
     "output_type": "execute_result"
    },
    {
     "data": {
      "image/png": "[encoded data removed]",
      "text/plain": [
       "<Figure size 432x288 with 6 Axes>"
      ]
     },
     "metadata": {
      "needs_background": "light"
     },
     "output_type": "display_data"
    }
   ],
   "source": [
    "fig, axes = plt.subplots(nrows=2, ncols=3)\n",
    "\n",
    "# df1.plot(ax=axes[0,0])\n",
    "# df2.plot(ax=axes[0,1])\n",
    "\n",
    "data['buying'].value_counts().plot(kind='bar', ax=axes[0,1])\n",
    "data['maint'].value_counts().plot(kind='bar', ax=axes[1,1])\n",
    "data['doors'].value_counts().plot(kind='bar', ax=axes[0,0])\n",
    "data['persons'].value_counts().plot(kind='bar', ax=axes[1,0])\n",
    "data['safety'].value_counts().plot(kind='bar', ax=axes[1,2])\n",
    "data['class'].value_counts().plot(kind='bar', ax=axes[0,2])"
   ]
  },
  {
   "cell_type": "code",
   "execution_count": 87,
   "id": "2d45a6ac-11f5-4125-a7f7-65fc8dbbfcf3",
   "metadata": {},
   "outputs": [
    {
     "data": {
      "text/plain": [
       "<AxesSubplot:>"
      ]
     },
     "execution_count": 87,
     "metadata": {},
     "output_type": "execute_result"
    },
    {
     "data": {
      "image/png": "[encoded data removed]",
      "text/plain": [
       "<Figure size 432x288 with 1 Axes>"
      ]
     },
     "metadata": {
      "needs_background": "light"
     },
     "output_type": "display_data"
    }
   ],
   "source": [
    "y.hist()"
   ]
  },
  {
   "cell_type": "code",
   "execution_count": 91,
   "id": "9363e093-c67c-4d1a-8c05-50719b222ece",
   "metadata": {},
   "outputs": [
    {
     "data": {
      "text/plain": [
       "<AxesSubplot:>"
      ]
     },
     "execution_count": 91,
     "metadata": {},
     "output_type": "execute_result"
    },
    {
     "data": {
      "image/png": "[encoded data removed]",
      "text/plain": [
       "<Figure size 432x288 with 1 Axes>"
      ]
     },
     "metadata": {
      "needs_background": "light"
     },
     "output_type": "display_data"
    }
   ],
   "source": [
    "data['class'].hist()"
   ]
  },
  {
   "cell_type": "code",
   "execution_count": 89,
   "id": "5fd037a6-4f85-4836-af67-b4edaf3a1fbf",
   "metadata": {},
   "outputs": [],
   "source": [
    "from sklearn.model_selection import StratifiedShuffleSplit"
   ]
  },
  {
   "cell_type": "code",
   "execution_count": 90,
   "id": "3c6437b1-6e6b-4e95-8f13-eae5af88b081",
   "metadata": {},
   "outputs": [],
   "source": [
    "split = StratifiedShuffleSplit(n_splits=1, test_size=0.2, random_state=42)\n",
    "for train_index, test_index in split.split(data, data['class']):\n",
    "    strat_train_set = data.loc[train_index]\n",
    "    strat_test_set = data.loc[test_index]"
   ]
  },
  {
   "cell_type": "code",
   "execution_count": 93,
   "id": "1e77f6b7-4cb8-4a59-b039-ac73c941c373",
   "metadata": {},
   "outputs": [],
   "source": []
  },
  {
   "cell_type": "code",
   "execution_count": 94,
   "id": "e70070aa-bbdf-4d1d-a2aa-8489aec447bd",
   "metadata": {},
   "outputs": [
    {
     "data": {
      "text/plain": [
       "unacc    0.699422\n",
       "acc      0.222543\n",
       "good     0.040462\n",
       "vgood    0.037572\n",
       "Name: class, dtype: float64"
      ]
     },
     "execution_count": 94,
     "metadata": {},
     "output_type": "execute_result"
    }
   ],
   "source": [
    "strat_test_set['class'].value_counts()/len(strat_test_set)"
   ]
  },
  {
   "cell_type": "code",
   "execution_count": 95,
   "id": "66f544ba-25ab-4346-adba-c00f58a222e8",
   "metadata": {},
   "outputs": [
    {
     "data": {
      "text/plain": [
       "unacc    0.700231\n",
       "acc      0.222222\n",
       "good     0.039931\n",
       "vgood    0.037616\n",
       "Name: class, dtype: float64"
      ]
     },
     "execution_count": 95,
     "metadata": {},
     "output_type": "execute_result"
    }
   ],
   "source": [
    "data['class'].value_counts()/len(data)"
   ]
  },
  {
   "cell_type": "code",
   "execution_count": 96,
   "id": "6ea67ae3-e0b2-4026-a3b6-afab82750516",
   "metadata": {},
   "outputs": [],
   "source": [
    "from sklearn.model_selection import train_test_split"
   ]
  },
  {
   "cell_type": "code",
   "execution_count": 98,
   "id": "7d1db88f-8569-4f04-8020-3374f41ed8e7",
   "metadata": {},
   "outputs": [],
   "source": [
    "train_set, test_set = train_test_split(data, test_size=0.2, random_state=42)"
   ]
  },
  {
   "cell_type": "code",
   "execution_count": 99,
   "id": "bed0e7c1-deb6-449e-b4d1-b188719e2032",
   "metadata": {},
   "outputs": [
    {
     "data": {
      "text/plain": [
       "unacc    0.705499\n",
       "acc      0.217800\n",
       "good     0.041968\n",
       "vgood    0.034732\n",
       "Name: class, dtype: float64"
      ]
     },
     "execution_count": 99,
     "metadata": {},
     "output_type": "execute_result"
    }
   ],
   "source": [
    "train_set['class'].value_counts()/len(train_set)"
   ]
  },
  {
   "cell_type": "code",
   "execution_count": 100,
   "id": "412ef2c1-bd39-49fd-9843-a2e306c6516e",
   "metadata": {},
   "outputs": [
    {
     "data": {
      "text/plain": [
       "unacc    0.170043\n",
       "acc      0.060058\n",
       "vgood    0.012301\n",
       "good     0.007959\n",
       "Name: class, dtype: float64"
      ]
     },
     "execution_count": 100,
     "metadata": {},
     "output_type": "execute_result"
    }
   ],
   "source": [
    "test_set['class'].value_counts()/len(train_set)"
   ]
  },
  {
   "cell_type": "code",
   "execution_count": 102,
   "id": "ce15bfdc-1def-4c48-b783-fddaa1e0d74d",
   "metadata": {},
   "outputs": [],
   "source": [
    "import seaborn as sns"
   ]
  },
  {
   "cell_type": "code",
   "execution_count": 105,
   "id": "72adcb6d-b52f-4376-8d0d-c8e138aa2cd0",
   "metadata": {},
   "outputs": [
    {
     "data": {
      "text/plain": [
       "Index(['buying', 'maint', 'doors', 'persons', 'lug_boot', 'safety', 'class'], dtype='object')"
      ]
     },
     "execution_count": 105,
     "metadata": {},
     "output_type": "execute_result"
    }
   ],
   "source": [
    "data.columns"
   ]
  },
  {
   "cell_type": "code",
   "execution_count": 104,
   "id": "980cfc91-efde-469f-bd9a-c125282a6122",
   "metadata": {},
   "outputs": [
    {
     "data": {
      "text/plain": [
       "<seaborn.axisgrid.FacetGrid at 0x7fe568b51340>"
      ]
     },
     "execution_count": 104,
     "metadata": {},
     "output_type": "execute_result"
    },
    {
     "data": {
      "image/png": "[encoded data removed]",
      "text/plain": [
       "<Figure size 360x360 with 1 Axes>"
      ]
     },
     "metadata": {
      "needs_background": "light"
     },
     "output_type": "display_data"
    }
   ],
   "source": [
    "sns.catplot(x=\"class\", y=\"buying\", data=data)"
   ]
  },
  {
   "cell_type": "code",
   "execution_count": 111,
   "id": "5981e4af-46a8-4992-95be-3f9e3e72619e",
   "metadata": {},
   "outputs": [],
   "source": [
    "from sklearn.preprocessing import OrdinalEncoder"
   ]
  },
  {
   "cell_type": "code",
   "execution_count": 112,
   "id": "f465ae43-0f61-4185-b740-2e70d21db23a",
   "metadata": {},
   "outputs": [],
   "source": [
    "ordinal_encoder = OrdinalEncoder()"
   ]
  },
  {
   "cell_type": "code",
   "execution_count": 114,
   "id": "4dc7e364-d852-46a3-b766-4dd35b2ac479",
   "metadata": {},
   "outputs": [],
   "source": [
    "en = ordinal_encoder.fit_transform(data)"
   ]
  },
  {
   "cell_type": "code",
   "execution_count": 117,
   "id": "ec448dc0-b56c-42a9-851a-db53f865403b",
   "metadata": {},
   "outputs": [
    {
     "data": {
      "text/plain": [
       "array([[3., 3., 0., ..., 2., 1., 2.],\n",
       "       [3., 3., 0., ..., 2., 2., 2.],\n",
       "       [3., 3., 0., ..., 2., 0., 2.],\n",
       "       ...,\n",
       "       [1., 1., 3., ..., 0., 1., 2.],\n",
       "       [1., 1., 3., ..., 0., 2., 1.],\n",
       "       [1., 1., 3., ..., 0., 0., 3.]])"
      ]
     },
     "execution_count": 117,
     "metadata": {},
     "output_type": "execute_result"
    }
   ],
   "source": [
    "en"
   ]
  },
  {
   "cell_type": "code",
   "execution_count": 175,
   "id": "692f94dc-2cd3-4074-ad95-789b58105cf4",
   "metadata": {},
   "outputs": [],
   "source": [
    "buying_mapping = {\"vhigh\": 3, \"high\": 2, \"med\": 1, 'low': 0}\n",
    "maint_mapping = {\"vhigh\": 3, \"high\": 2, \"med\": 1, 'low': 0}\n",
    "lug_boot_mapping = {\"small\": 0, \"med\": 1, \"big\": 2}\n",
    "safety_mapping = {\"low\": 0, \"med\": 1, \"high\": 2}\n",
    "class_mapping = {\"unacc\": 0, \"acc\": 1, \"good\": 2, \"vgood\": 3}\n",
    "doors_mapping = {\"2\": 0, \"3\": 1, \"4\": 2, \"5more\": 3}\n",
    "persons_mapping = {\"2\": 0, \"3\": 1, \"more\": 2}"
   ]
  },
  {
   "cell_type": "code",
   "execution_count": 176,
   "id": "74a7a7ae-fb07-4b68-84b9-51fcf180f785",
   "metadata": {},
   "outputs": [],
   "source": [
    "new_data = data.replace({\"buying\": buying_mapping})"
   ]
  },
  {
   "cell_type": "code",
   "execution_count": 177,
   "id": "77d91c51-cbbb-4ef3-bc18-b8342b19dfeb",
   "metadata": {},
   "outputs": [],
   "source": [
    "new_data = new_data.replace({\"maint\": maint_mapping})\n",
    "new_data = new_data.replace({\"lug_boot\": lug_boot_mapping})\n",
    "new_data = new_data.replace({\"safety\": safety_mapping})"
   ]
  },
  {
   "cell_type": "code",
   "execution_count": 178,
   "id": "41ef8283-68c7-4f3d-8564-52ef74b76bfd",
   "metadata": {},
   "outputs": [],
   "source": [
    "new_data = new_data.replace({\"class\": class_mapping})"
   ]
  },
  {
   "cell_type": "code",
   "execution_count": 179,
   "id": "f295dd31-22c4-48e9-9dbd-bd4369a95917",
   "metadata": {},
   "outputs": [],
   "source": [
    "new_data = new_data.replace({\"persons\": persons_mapping})\n",
    "new_data = new_data.replace({\"doors\": doors_mapping})"
   ]
  },
  {
   "cell_type": "code",
   "execution_count": 180,
   "id": "f9253b39-6045-4c47-a8d7-c96defa856d8",
   "metadata": {},
   "outputs": [
    {
     "data": {
      "text/plain": [
       "array([0, '4', 2], dtype=object)"
      ]
     },
     "execution_count": 180,
     "metadata": {},
     "output_type": "execute_result"
    }
   ],
   "source": [
    "new_data['persons'].unique()"
   ]
  },
  {
   "cell_type": "code",
   "execution_count": 164,
   "id": "8fd92721-0ebf-4c3f-89da-f155b400cb38",
   "metadata": {},
   "outputs": [],
   "source": [
    "# buying:   vhigh, high, med, .\n",
    "# maint:    vhigh, high, med, low.\n",
    "# doors:    2, 3, 4, 5more.\n",
    "# persons:  2, 4, more.\n",
    "# lug_boot: small, med, big.\n",
    "# safety:   low, med, high.\n",
    "# unacc, acc, good, vgood"
   ]
  },
  {
   "cell_type": "code",
   "execution_count": 181,
   "id": "405ec57f-7d91-4b5d-b45c-eae655d51c13",
   "metadata": {},
   "outputs": [
    {
     "data": {
      "text/html": [
       "<div>\n",
       "<style scoped>\n",
       "    .dataframe tbody tr th:only-of-type {\n",
       "        vertical-align: middle;\n",
       "    }\n",
       "\n",
       "    .dataframe tbody tr th {\n",
       "        vertical-align: top;\n",
       "    }\n",
       "\n",
       "    .dataframe thead th {\n",
       "        text-align: right;\n",
       "    }\n",
       "</style>\n",
       "<table border=\"1\" class=\"dataframe\">\n",
       "  <thead>\n",
       "    <tr style=\"text-align: right;\">\n",
       "      <th></th>\n",
       "      <th>buying</th>\n",
       "      <th>maint</th>\n",
       "      <th>doors</th>\n",
       "      <th>persons</th>\n",
       "      <th>lug_boot</th>\n",
       "      <th>safety</th>\n",
       "      <th>class</th>\n",
       "    </tr>\n",
       "  </thead>\n",
       "  <tbody>\n",
       "    <tr>\n",
       "      <th>0</th>\n",
       "      <td>3</td>\n",
       "      <td>3</td>\n",
       "      <td>0</td>\n",
       "      <td>0</td>\n",
       "      <td>0</td>\n",
       "      <td>0</td>\n",
       "      <td>0</td>\n",
       "    </tr>\n",
       "    <tr>\n",
       "      <th>1</th>\n",
       "      <td>3</td>\n",
       "      <td>3</td>\n",
       "      <td>0</td>\n",
       "      <td>0</td>\n",
       "      <td>0</td>\n",
       "      <td>1</td>\n",
       "      <td>0</td>\n",
       "    </tr>\n",
       "    <tr>\n",
       "      <th>2</th>\n",
       "      <td>3</td>\n",
       "      <td>3</td>\n",
       "      <td>0</td>\n",
       "      <td>0</td>\n",
       "      <td>0</td>\n",
       "      <td>2</td>\n",
       "      <td>0</td>\n",
       "    </tr>\n",
       "    <tr>\n",
       "      <th>3</th>\n",
       "      <td>3</td>\n",
       "      <td>3</td>\n",
       "      <td>0</td>\n",
       "      <td>0</td>\n",
       "      <td>1</td>\n",
       "      <td>0</td>\n",
       "      <td>0</td>\n",
       "    </tr>\n",
       "    <tr>\n",
       "      <th>4</th>\n",
       "      <td>3</td>\n",
       "      <td>3</td>\n",
       "      <td>0</td>\n",
       "      <td>0</td>\n",
       "      <td>1</td>\n",
       "      <td>1</td>\n",
       "      <td>0</td>\n",
       "    </tr>\n",
       "    <tr>\n",
       "      <th>...</th>\n",
       "      <td>...</td>\n",
       "      <td>...</td>\n",
       "      <td>...</td>\n",
       "      <td>...</td>\n",
       "      <td>...</td>\n",
       "      <td>...</td>\n",
       "      <td>...</td>\n",
       "    </tr>\n",
       "    <tr>\n",
       "      <th>1723</th>\n",
       "      <td>0</td>\n",
       "      <td>0</td>\n",
       "      <td>3</td>\n",
       "      <td>2</td>\n",
       "      <td>1</td>\n",
       "      <td>1</td>\n",
       "      <td>2</td>\n",
       "    </tr>\n",
       "    <tr>\n",
       "      <th>1724</th>\n",
       "      <td>0</td>\n",
       "      <td>0</td>\n",
       "      <td>3</td>\n",
       "      <td>2</td>\n",
       "      <td>1</td>\n",
       "      <td>2</td>\n",
       "      <td>3</td>\n",
       "    </tr>\n",
       "    <tr>\n",
       "      <th>1725</th>\n",
       "      <td>0</td>\n",
       "      <td>0</td>\n",
       "      <td>3</td>\n",
       "      <td>2</td>\n",
       "      <td>2</td>\n",
       "      <td>0</td>\n",
       "      <td>0</td>\n",
       "    </tr>\n",
       "    <tr>\n",
       "      <th>1726</th>\n",
       "      <td>0</td>\n",
       "      <td>0</td>\n",
       "      <td>3</td>\n",
       "      <td>2</td>\n",
       "      <td>2</td>\n",
       "      <td>1</td>\n",
       "      <td>2</td>\n",
       "    </tr>\n",
       "    <tr>\n",
       "      <th>1727</th>\n",
       "      <td>0</td>\n",
       "      <td>0</td>\n",
       "      <td>3</td>\n",
       "      <td>2</td>\n",
       "      <td>2</td>\n",
       "      <td>2</td>\n",
       "      <td>3</td>\n",
       "    </tr>\n",
       "  </tbody>\n",
       "</table>\n",
       "<p>1728 rows × 7 columns</p>\n",
       "</div>"
      ],
      "text/plain": [
       "      buying  maint  doors persons  lug_boot  safety  class\n",
       "0          3      3      0       0         0       0      0\n",
       "1          3      3      0       0         0       1      0\n",
       "2          3      3      0       0         0       2      0\n",
       "3          3      3      0       0         1       0      0\n",
       "4          3      3      0       0         1       1      0\n",
       "...      ...    ...    ...     ...       ...     ...    ...\n",
       "1723       0      0      3       2         1       1      2\n",
       "1724       0      0      3       2         1       2      3\n",
       "1725       0      0      3       2         2       0      0\n",
       "1726       0      0      3       2         2       1      2\n",
       "1727       0      0      3       2         2       2      3\n",
       "\n",
       "[1728 rows x 7 columns]"
      ]
     },
     "execution_count": 181,
     "metadata": {},
     "output_type": "execute_result"
    }
   ],
   "source": [
    "new_data"
   ]
  },
  {
   "cell_type": "code",
   "execution_count": null,
   "id": "8bd2997b-7571-4975-8a46-320b48aa4271",
   "metadata": {},
   "outputs": [],
   "source": []
  },
  {
   "cell_type": "code",
   "execution_count": 191,
   "id": "33f29d0c-c134-4f78-8d9e-f5b56c1c9992",
   "metadata": {},
   "outputs": [],
   "source": [
    "for train_index, test_index in split.split(data, data['class']):\n",
    "    strat_train_set = new_data.loc[train_index]\n",
    "    strat_test_set = new_data.loc[test_index]"
   ]
  },
  {
   "cell_type": "code",
   "execution_count": 192,
   "id": "aef18b0e-0c56-4731-bb68-db316e4b1d58",
   "metadata": {},
   "outputs": [],
   "source": [
    "strat_train_set_X = strat_train_set[['maint', 'doors', 'persons', 'lug_boot', 'safety', 'class']]\n",
    "strat_test_set_X = strat_test_set[['maint', 'doors', 'persons', 'lug_boot', 'safety', 'class']]"
   ]
  },
  {
   "cell_type": "code",
   "execution_count": 194,
   "id": "8ff07a2d-a5b0-4309-a8f2-4e63b326fca9",
   "metadata": {},
   "outputs": [],
   "source": [
    "strat_train_set_y = strat_train_set['buying']\n",
    "strat_test_set_y = strat_test_set['buying']"
   ]
  },
  {
   "cell_type": "code",
   "execution_count": 196,
   "id": "fdeeea71-b98c-47d0-bb62-5064fdcac307",
   "metadata": {},
   "outputs": [
    {
     "data": {
      "text/plain": [
       "((1382, 6), (1382,), (346, 6), (346,))"
      ]
     },
     "execution_count": 196,
     "metadata": {},
     "output_type": "execute_result"
    }
   ],
   "source": [
    "strat_train_set_X.shape, strat_train_set_y.shape, strat_test_set_X.shape, strat_test_set_y.shape"
   ]
  },
  {
   "cell_type": "code",
   "execution_count": 131,
   "id": "dbdd4e6b-689f-40a4-957f-d316c46e4b7c",
   "metadata": {},
   "outputs": [],
   "source": [
    "from sklearn.ensemble import RandomForestRegressor"
   ]
  },
  {
   "cell_type": "code",
   "execution_count": 197,
   "id": "3efea457-76e1-447a-be9c-57b1f83998ac",
   "metadata": {},
   "outputs": [],
   "source": [
    "from sklearn.tree import DecisionTreeRegressor"
   ]
  },
  {
   "cell_type": "code",
   "execution_count": 198,
   "id": "1ba92312-0f09-4036-853e-71ab2d685f0b",
   "metadata": {},
   "outputs": [],
   "source": [
    "tree_reg = DecisionTreeRegressor()"
   ]
  },
  {
   "cell_type": "code",
   "execution_count": 199,
   "id": "47310207-4423-456c-bde6-41d55b911756",
   "metadata": {},
   "outputs": [
    {
     "data": {
      "text/plain": [
       "DecisionTreeRegressor()"
      ]
     },
     "execution_count": 199,
     "metadata": {},
     "output_type": "execute_result"
    }
   ],
   "source": [
    "tree_reg.fit(strat_train_set_X, strat_train_set_y)"
   ]
  },
  {
   "cell_type": "code",
   "execution_count": 200,
   "id": "0c4f795e-736d-47db-a62f-271c7670faeb",
   "metadata": {},
   "outputs": [],
   "source": [
    "pred = tree_reg.predict(strat_test_set_X)"
   ]
  },
  {
   "cell_type": "code",
   "execution_count": 212,
   "id": "52b6d156-39e5-4ae9-9db9-628dfef97c8e",
   "metadata": {},
   "outputs": [],
   "source": [
    "from sklearn.linear_model import LogisticRegression\n",
    "from sklearn.model_selection import train_test_split,cross_val_score\n",
    "from sklearn.metrics import classification_report, confusion_matrix\n",
    "from sklearn.neighbors import KNeighborsClassifier\n",
    "# from sklearn.grid_search import GridSearchCV"
   ]
  },
  {
   "cell_type": "code",
   "execution_count": 213,
   "id": "3c1ce5b8-3cb3-450a-a7c0-1ac2db200a46",
   "metadata": {},
   "outputs": [],
   "source": [
    "logreg=LogisticRegression(solver='newton-cg',multi_class='multinomial')"
   ]
  },
  {
   "cell_type": "code",
   "execution_count": 214,
   "id": "2e5c7b37-ef21-4c50-a047-9d4e79177a57",
   "metadata": {},
   "outputs": [
    {
     "data": {
      "text/plain": [
       "LogisticRegression(multi_class='multinomial', solver='newton-cg')"
      ]
     },
     "execution_count": 214,
     "metadata": {},
     "output_type": "execute_result"
    }
   ],
   "source": [
    "logreg.fit(strat_train_set_X,strat_train_set_y)"
   ]
  },
  {
   "cell_type": "code",
   "execution_count": 227,
   "id": "d432403e-8d71-4234-8bef-d668ed67a318",
   "metadata": {},
   "outputs": [],
   "source": []
  },
  {
   "cell_type": "code",
   "execution_count": 229,
   "id": "d09612fa-dd5c-4938-aa58-8b6e52bc1b13",
   "metadata": {},
   "outputs": [],
   "source": [
    "pred=logreg.predict(strat_test_set_X)"
   ]
  },
  {
   "cell_type": "code",
   "execution_count": 230,
   "id": "45ecaf51-69ae-4516-985f-f7b8538c1a7d",
   "metadata": {},
   "outputs": [],
   "source": [
    "pred = pred.reshape(-1, 1)"
   ]
  },
  {
   "cell_type": "code",
   "execution_count": 239,
   "id": "d26eed20-6635-493a-b749-4bdc778b7ec7",
   "metadata": {},
   "outputs": [
    {
     "data": {
      "text/plain": [
       "346"
      ]
     },
     "execution_count": 239,
     "metadata": {},
     "output_type": "execute_result"
    }
   ],
   "source": [
    "len(list(strat_test_set_y))"
   ]
  },
  {
   "cell_type": "code",
   "execution_count": 244,
   "id": "783cc1c9-eef7-4802-9f15-95ef9fef3654",
   "metadata": {},
   "outputs": [
    {
     "data": {
      "text/plain": [
       "0.315028901734104"
      ]
     },
     "execution_count": 244,
     "metadata": {},
     "output_type": "execute_result"
    }
   ],
   "source": [
    "logreg.score(strat_test_set_X,strat_test_set_y)"
   ]
  },
  {
   "cell_type": "code",
   "execution_count": 241,
   "id": "d4fcd802-5cf6-4e5d-9d38-2989b7243fe9",
   "metadata": {},
   "outputs": [],
   "source": [
    "knn=KNeighborsClassifier(n_jobs=-1)\n"
   ]
  },
  {
   "cell_type": "code",
   "execution_count": 242,
   "id": "8de43f83-589a-4534-86e0-a35f76f547fe",
   "metadata": {},
   "outputs": [],
   "source": [
    "knn.fit(strat_train_set_X,strat_train_set_y)\n",
    "pred=knn.predict(strat_test_set_X)\n"
   ]
  },
  {
   "cell_type": "code",
   "execution_count": 243,
   "id": "c51da69c-b415-49ae-a8e4-8383c98faf76",
   "metadata": {},
   "outputs": [
    {
     "data": {
      "text/plain": [
       "0.17052023121387283"
      ]
     },
     "execution_count": 243,
     "metadata": {},
     "output_type": "execute_result"
    }
   ],
   "source": [
    "knn.score(strat_test_set_X, strat_test_set_y)"
   ]
  },
  {
   "cell_type": "code",
   "execution_count": null,
   "id": "488fd49f-a761-43f1-a193-0cfd8b82dcc1",
   "metadata": {},
   "outputs": [],
   "source": []
  },
  {
   "cell_type": "code",
   "execution_count": 206,
   "id": "b5cc4ef6-92c9-42c0-a645-24bbdb15cd32",
   "metadata": {},
   "outputs": [],
   "source": [
    "from sklearn.metrics import confusion_matrix, precision_score, recall_score"
   ]
  },
  {
   "cell_type": "code",
   "execution_count": 210,
   "id": "0011efdb-c967-4f46-a176-14795758f18a",
   "metadata": {},
   "outputs": [],
   "source": [
    "# precision_score(strat_test_set_y, pred)"
   ]
  },
  {
   "cell_type": "code",
   "execution_count": null,
   "id": "1d145f58-f90d-4636-8bf2-818bff5a2dd1",
   "metadata": {},
   "outputs": [],
   "source": []
  }
 ],
 "metadata": {
  "kernelspec": {
   "display_name": "Python 3 (ipykernel)",
   "language": "python",
   "name": "python3"
  },
  "language_info": {
   "codemirror_mode": {
    "name": "ipython",
    "version": 3
   },
   "file_extension": ".py",
   "mimetype": "text/x-python",
   "name": "python",
   "nbconvert_exporter": "python",
   "pygments_lexer": "ipython3",
   "version": "3.8.11"
  }
 },
 "nbformat": 4,
 "nbformat_minor": 5
}
